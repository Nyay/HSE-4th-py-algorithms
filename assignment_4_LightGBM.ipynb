{
  "nbformat": 4,
  "nbformat_minor": 0,
  "metadata": {
    "colab": {
      "name": "Untitled2.ipynb",
      "version": "0.3.2",
      "provenance": []
    },
    "kernelspec": {
      "name": "python3",
      "display_name": "Python 3"
    }
  },
  "cells": [
    {
      "metadata": {
        "id": "ZnjoD8IV6dr5",
        "colab_type": "code",
        "colab": {}
      },
      "cell_type": "code",
      "source": [
        "import pandas as pd\n",
        "import numpy as np\n",
        "from sklearn.feature_extraction.text import HashingVectorizer\n",
        "from sklearn import model_selection\n",
        "from sklearn.pipeline import Pipeline\n",
        "from sklearn.linear_model import LogisticRegressionCV\n",
        "from sklearn.preprocessing import LabelEncoder\n",
        "from sklearn import metrics\n",
        "\n",
        "import warnings\n",
        "warnings.filterwarnings('ignore')\n",
        "\n",
        "import matplotlib.pyplot as plt\n",
        "import seaborn as sns\n",
        "%matplotlib inline\n",
        "\n",
        "\n",
        "SEED=23"
      ],
      "execution_count": 0,
      "outputs": []
    },
    {
      "metadata": {
        "id": "p_Q8SHeE8H3l",
        "colab_type": "code",
        "outputId": "8c347e09-8c15-41bf-a12b-30ac371664f4",
        "colab": {
          "base_uri": "https://localhost:8080/",
          "height": 258
        }
      },
      "cell_type": "code",
      "source": [
        "df = pd.read_csv('ner_short.csv', index_col=0)\n",
        "df.head()"
      ],
      "execution_count": 0,
      "outputs": [
        {
          "output_type": "execute_result",
          "data": {
            "text/html": [
              "<div>\n",
              "<style scoped>\n",
              "    .dataframe tbody tr th:only-of-type {\n",
              "        vertical-align: middle;\n",
              "    }\n",
              "\n",
              "    .dataframe tbody tr th {\n",
              "        vertical-align: top;\n",
              "    }\n",
              "\n",
              "    .dataframe thead th {\n",
              "        text-align: right;\n",
              "    }\n",
              "</style>\n",
              "<table border=\"1\" class=\"dataframe\">\n",
              "  <thead>\n",
              "    <tr style=\"text-align: right;\">\n",
              "      <th></th>\n",
              "      <th>next-next-pos</th>\n",
              "      <th>next-next-word</th>\n",
              "      <th>next-pos</th>\n",
              "      <th>next-word</th>\n",
              "      <th>pos</th>\n",
              "      <th>prev-pos</th>\n",
              "      <th>prev-prev-pos</th>\n",
              "      <th>prev-prev-word</th>\n",
              "      <th>prev-word</th>\n",
              "      <th>sentence_idx</th>\n",
              "      <th>word</th>\n",
              "      <th>tag</th>\n",
              "    </tr>\n",
              "  </thead>\n",
              "  <tbody>\n",
              "    <tr>\n",
              "      <th>0</th>\n",
              "      <td>NNS</td>\n",
              "      <td>demonstrators</td>\n",
              "      <td>IN</td>\n",
              "      <td>of</td>\n",
              "      <td>NNS</td>\n",
              "      <td>__START1__</td>\n",
              "      <td>__START2__</td>\n",
              "      <td>__START2__</td>\n",
              "      <td>__START1__</td>\n",
              "      <td>1.0</td>\n",
              "      <td>Thousands</td>\n",
              "      <td>O</td>\n",
              "    </tr>\n",
              "    <tr>\n",
              "      <th>1</th>\n",
              "      <td>VBP</td>\n",
              "      <td>have</td>\n",
              "      <td>NNS</td>\n",
              "      <td>demonstrators</td>\n",
              "      <td>IN</td>\n",
              "      <td>NNS</td>\n",
              "      <td>__START1__</td>\n",
              "      <td>__START1__</td>\n",
              "      <td>Thousands</td>\n",
              "      <td>1.0</td>\n",
              "      <td>of</td>\n",
              "      <td>O</td>\n",
              "    </tr>\n",
              "    <tr>\n",
              "      <th>2</th>\n",
              "      <td>VBN</td>\n",
              "      <td>marched</td>\n",
              "      <td>VBP</td>\n",
              "      <td>have</td>\n",
              "      <td>NNS</td>\n",
              "      <td>IN</td>\n",
              "      <td>NNS</td>\n",
              "      <td>Thousands</td>\n",
              "      <td>of</td>\n",
              "      <td>1.0</td>\n",
              "      <td>demonstrators</td>\n",
              "      <td>O</td>\n",
              "    </tr>\n",
              "    <tr>\n",
              "      <th>3</th>\n",
              "      <td>IN</td>\n",
              "      <td>through</td>\n",
              "      <td>VBN</td>\n",
              "      <td>marched</td>\n",
              "      <td>VBP</td>\n",
              "      <td>NNS</td>\n",
              "      <td>IN</td>\n",
              "      <td>of</td>\n",
              "      <td>demonstrators</td>\n",
              "      <td>1.0</td>\n",
              "      <td>have</td>\n",
              "      <td>O</td>\n",
              "    </tr>\n",
              "    <tr>\n",
              "      <th>4</th>\n",
              "      <td>NNP</td>\n",
              "      <td>London</td>\n",
              "      <td>IN</td>\n",
              "      <td>through</td>\n",
              "      <td>VBN</td>\n",
              "      <td>VBP</td>\n",
              "      <td>NNS</td>\n",
              "      <td>demonstrators</td>\n",
              "      <td>have</td>\n",
              "      <td>1.0</td>\n",
              "      <td>marched</td>\n",
              "      <td>O</td>\n",
              "    </tr>\n",
              "  </tbody>\n",
              "</table>\n",
              "</div>"
            ],
            "text/plain": [
              "  next-next-pos next-next-word next-pos      next-word  pos    prev-pos  \\\n",
              "0           NNS  demonstrators       IN             of  NNS  __START1__   \n",
              "1           VBP           have      NNS  demonstrators   IN         NNS   \n",
              "2           VBN        marched      VBP           have  NNS          IN   \n",
              "3            IN        through      VBN        marched  VBP         NNS   \n",
              "4           NNP         London       IN        through  VBN         VBP   \n",
              "\n",
              "  prev-prev-pos prev-prev-word      prev-word  sentence_idx           word tag  \n",
              "0    __START2__     __START2__     __START1__           1.0      Thousands   O  \n",
              "1    __START1__     __START1__      Thousands           1.0             of   O  \n",
              "2           NNS      Thousands             of           1.0  demonstrators   O  \n",
              "3            IN             of  demonstrators           1.0           have   O  \n",
              "4           NNS  demonstrators           have           1.0        marched   O  "
            ]
          },
          "metadata": {
            "tags": []
          },
          "execution_count": 3
        }
      ]
    },
    {
      "metadata": {
        "id": "HUO3C0_W8M53",
        "colab_type": "code",
        "outputId": "6a0e0e80-0ca9-40c2-f7cb-51a3dc793104",
        "colab": {
          "base_uri": "https://localhost:8080/",
          "height": 34
        }
      },
      "cell_type": "code",
      "source": [
        "# number of sentences\n",
        "df.sentence_idx.max()"
      ],
      "execution_count": 0,
      "outputs": [
        {
          "output_type": "execute_result",
          "data": {
            "text/plain": [
              "1500.0"
            ]
          },
          "metadata": {
            "tags": []
          },
          "execution_count": 4
        }
      ]
    },
    {
      "metadata": {
        "id": "V1hr-pk98M8m",
        "colab_type": "code",
        "outputId": "42efc18f-dc47-4e78-a918-f10fbb6dcfe7",
        "colab": {
          "base_uri": "https://localhost:8080/",
          "height": 323
        }
      },
      "cell_type": "code",
      "source": [
        "# class distribution\n",
        "df.tag.value_counts(normalize=True )"
      ],
      "execution_count": 0,
      "outputs": [
        {
          "output_type": "execute_result",
          "data": {
            "text/plain": [
              "O        0.852828\n",
              "B-geo    0.027604\n",
              "B-gpe    0.020935\n",
              "B-org    0.020247\n",
              "I-per    0.017795\n",
              "B-tim    0.016927\n",
              "B-per    0.015312\n",
              "I-org    0.013937\n",
              "I-geo    0.005383\n",
              "I-tim    0.004247\n",
              "B-art    0.001376\n",
              "I-gpe    0.000837\n",
              "I-art    0.000748\n",
              "B-eve    0.000628\n",
              "I-eve    0.000508\n",
              "B-nat    0.000449\n",
              "I-nat    0.000239\n",
              "Name: tag, dtype: float64"
            ]
          },
          "metadata": {
            "tags": []
          },
          "execution_count": 5
        }
      ]
    },
    {
      "metadata": {
        "id": "MgygWn9J8M_m",
        "colab_type": "code",
        "colab": {}
      },
      "cell_type": "code",
      "source": [
        "# sentence length\n",
        "tdf = df.set_index('sentence_idx')\n",
        "tdf['length'] = df.groupby('sentence_idx').tag.count()\n",
        "df = tdf.reset_index(drop=False)"
      ],
      "execution_count": 0,
      "outputs": []
    },
    {
      "metadata": {
        "id": "uRHmNqcX8NCh",
        "colab_type": "code",
        "colab": {}
      },
      "cell_type": "code",
      "source": [
        "# encode categorial variables\n",
        "\n",
        "le = LabelEncoder()\n",
        "df['pos'] = le.fit_transform(df.pos)\n",
        "df['next-pos'] = le.fit_transform(df['next-pos'])\n",
        "df['next-next-pos'] = le.fit_transform(df['next-next-pos'])\n",
        "df['prev-pos'] = le.fit_transform(df['prev-pos'])\n",
        "df['prev-prev-pos'] = le.fit_transform(df['prev-prev-pos'])"
      ],
      "execution_count": 0,
      "outputs": []
    },
    {
      "metadata": {
        "id": "iWUx1nxv8Z7N",
        "colab_type": "code",
        "outputId": "352133d9-71a8-4840-b63e-6223c23b3a41",
        "colab": {
          "base_uri": "https://localhost:8080/",
          "height": 258
        }
      },
      "cell_type": "code",
      "source": [
        "df.head()"
      ],
      "execution_count": 0,
      "outputs": [
        {
          "output_type": "execute_result",
          "data": {
            "text/html": [
              "<div>\n",
              "<style scoped>\n",
              "    .dataframe tbody tr th:only-of-type {\n",
              "        vertical-align: middle;\n",
              "    }\n",
              "\n",
              "    .dataframe tbody tr th {\n",
              "        vertical-align: top;\n",
              "    }\n",
              "\n",
              "    .dataframe thead th {\n",
              "        text-align: right;\n",
              "    }\n",
              "</style>\n",
              "<table border=\"1\" class=\"dataframe\">\n",
              "  <thead>\n",
              "    <tr style=\"text-align: right;\">\n",
              "      <th></th>\n",
              "      <th>sentence_idx</th>\n",
              "      <th>next-next-pos</th>\n",
              "      <th>next-next-word</th>\n",
              "      <th>next-pos</th>\n",
              "      <th>next-word</th>\n",
              "      <th>pos</th>\n",
              "      <th>prev-pos</th>\n",
              "      <th>prev-prev-pos</th>\n",
              "      <th>prev-prev-word</th>\n",
              "      <th>prev-word</th>\n",
              "      <th>word</th>\n",
              "      <th>tag</th>\n",
              "      <th>length</th>\n",
              "    </tr>\n",
              "  </thead>\n",
              "  <tbody>\n",
              "    <tr>\n",
              "      <th>0</th>\n",
              "      <td>1.0</td>\n",
              "      <td>18</td>\n",
              "      <td>demonstrators</td>\n",
              "      <td>9</td>\n",
              "      <td>of</td>\n",
              "      <td>18</td>\n",
              "      <td>39</td>\n",
              "      <td>40</td>\n",
              "      <td>__START2__</td>\n",
              "      <td>__START1__</td>\n",
              "      <td>Thousands</td>\n",
              "      <td>O</td>\n",
              "      <td>48</td>\n",
              "    </tr>\n",
              "    <tr>\n",
              "      <th>1</th>\n",
              "      <td>1.0</td>\n",
              "      <td>33</td>\n",
              "      <td>have</td>\n",
              "      <td>18</td>\n",
              "      <td>demonstrators</td>\n",
              "      <td>9</td>\n",
              "      <td>18</td>\n",
              "      <td>39</td>\n",
              "      <td>__START1__</td>\n",
              "      <td>Thousands</td>\n",
              "      <td>of</td>\n",
              "      <td>O</td>\n",
              "      <td>48</td>\n",
              "    </tr>\n",
              "    <tr>\n",
              "      <th>2</th>\n",
              "      <td>1.0</td>\n",
              "      <td>32</td>\n",
              "      <td>marched</td>\n",
              "      <td>33</td>\n",
              "      <td>have</td>\n",
              "      <td>18</td>\n",
              "      <td>9</td>\n",
              "      <td>18</td>\n",
              "      <td>Thousands</td>\n",
              "      <td>of</td>\n",
              "      <td>demonstrators</td>\n",
              "      <td>O</td>\n",
              "      <td>48</td>\n",
              "    </tr>\n",
              "    <tr>\n",
              "      <th>3</th>\n",
              "      <td>1.0</td>\n",
              "      <td>9</td>\n",
              "      <td>through</td>\n",
              "      <td>32</td>\n",
              "      <td>marched</td>\n",
              "      <td>33</td>\n",
              "      <td>18</td>\n",
              "      <td>9</td>\n",
              "      <td>of</td>\n",
              "      <td>demonstrators</td>\n",
              "      <td>have</td>\n",
              "      <td>O</td>\n",
              "      <td>48</td>\n",
              "    </tr>\n",
              "    <tr>\n",
              "      <th>4</th>\n",
              "      <td>1.0</td>\n",
              "      <td>16</td>\n",
              "      <td>London</td>\n",
              "      <td>9</td>\n",
              "      <td>through</td>\n",
              "      <td>32</td>\n",
              "      <td>33</td>\n",
              "      <td>18</td>\n",
              "      <td>demonstrators</td>\n",
              "      <td>have</td>\n",
              "      <td>marched</td>\n",
              "      <td>O</td>\n",
              "      <td>48</td>\n",
              "    </tr>\n",
              "  </tbody>\n",
              "</table>\n",
              "</div>"
            ],
            "text/plain": [
              "   sentence_idx  next-next-pos next-next-word  next-pos      next-word  pos  \\\n",
              "0           1.0             18  demonstrators         9             of   18   \n",
              "1           1.0             33           have        18  demonstrators    9   \n",
              "2           1.0             32        marched        33           have   18   \n",
              "3           1.0              9        through        32        marched   33   \n",
              "4           1.0             16         London         9        through   32   \n",
              "\n",
              "   prev-pos  prev-prev-pos prev-prev-word      prev-word           word tag  \\\n",
              "0        39             40     __START2__     __START1__      Thousands   O   \n",
              "1        18             39     __START1__      Thousands             of   O   \n",
              "2         9             18      Thousands             of  demonstrators   O   \n",
              "3        18              9             of  demonstrators           have   O   \n",
              "4        33             18  demonstrators           have        marched   O   \n",
              "\n",
              "   length  \n",
              "0      48  \n",
              "1      48  \n",
              "2      48  \n",
              "3      48  \n",
              "4      48  "
            ]
          },
          "metadata": {
            "tags": []
          },
          "execution_count": 8
        }
      ]
    },
    {
      "metadata": {
        "id": "Ss3SuLw78Z9_",
        "colab_type": "code",
        "outputId": "f98d8fc0-0d4c-490d-ab21-1ab9c2fe48e3",
        "colab": {
          "base_uri": "https://localhost:8080/",
          "height": 51
        }
      },
      "cell_type": "code",
      "source": [
        "# splitting\n",
        "y = LabelEncoder().fit_transform(df.tag)\n",
        "\n",
        "df_train, df_test, y_train, y_test = model_selection.train_test_split(df, y, stratify=y, \n",
        "                                                                      test_size=0.25, random_state=SEED, shuffle=True)\n",
        "print('train', df_train.shape[0])\n",
        "print('test', df_test.shape[0])"
      ],
      "execution_count": 0,
      "outputs": [
        {
          "output_type": "stream",
          "text": [
            "train 50155\n",
            "test 16719\n"
          ],
          "name": "stdout"
        }
      ]
    },
    {
      "metadata": {
        "id": "3wxHvd6C8aA5",
        "colab_type": "code",
        "outputId": "93ebd08c-3823-48b3-8b6d-396374328b1a",
        "colab": {
          "base_uri": "https://localhost:8080/",
          "height": 173
        }
      },
      "cell_type": "code",
      "source": [
        "!pip install lightgbm"
      ],
      "execution_count": 0,
      "outputs": [
        {
          "output_type": "stream",
          "text": [
            "Collecting lightgbm\n",
            "\u001b[?25l  Downloading https://files.pythonhosted.org/packages/4c/3b/4ae113193b4ee01387ed76d5eea32788aec0589df9ae7378a8b7443eaa8b/lightgbm-2.2.2-py2.py3-none-manylinux1_x86_64.whl (1.2MB)\n",
            "\u001b[K    100% |████████████████████████████████| 1.2MB 16.7MB/s \n",
            "\u001b[?25hRequirement already satisfied: scikit-learn in /usr/local/lib/python3.6/dist-packages (from lightgbm) (0.19.2)\n",
            "Requirement already satisfied: numpy in /usr/local/lib/python3.6/dist-packages (from lightgbm) (1.14.6)\n",
            "Requirement already satisfied: scipy in /usr/local/lib/python3.6/dist-packages (from lightgbm) (1.1.0)\n",
            "Installing collected packages: lightgbm\n",
            "Successfully installed lightgbm-2.2.2\n"
          ],
          "name": "stdout"
        }
      ]
    },
    {
      "metadata": {
        "id": "HdM5ukWO8aD_",
        "colab_type": "code",
        "colab": {}
      },
      "cell_type": "code",
      "source": [
        "import lightgbm as lgb\n",
        "from sklearn import metrics\n",
        "from sklearn.model_selection import GridSearchCV"
      ],
      "execution_count": 0,
      "outputs": []
    },
    {
      "metadata": {
        "id": "WYm7_aPs8aKx",
        "colab_type": "code",
        "colab": {}
      },
      "cell_type": "code",
      "source": [
        "lg = lgb.LGBMClassifier(silent=False)\n",
        "param_dist = {\"max_depth\": [50,75],\n",
        "              \"learning_rate\" : [0.1, 0.5, 1],\n",
        "              \"num_leaves\": [300,900,1200],\n",
        "              \"n_estimators\": [200, 300]\n",
        "             }"
      ],
      "execution_count": 0,
      "outputs": []
    },
    {
      "metadata": {
        "id": "T8FAaYfC_sOW",
        "colab_type": "code",
        "colab": {}
      },
      "cell_type": "code",
      "source": [
        "columns = ['sentence_idx','next-next-pos','next-pos','pos','prev-pos','prev-prev-pos']"
      ],
      "execution_count": 0,
      "outputs": []
    },
    {
      "metadata": {
        "id": "c6DUItaW_k1Y",
        "colab_type": "code",
        "outputId": "210d2a16-d1f7-4066-a8dc-7e2f88e9d2be",
        "colab": {
          "base_uri": "https://localhost:8080/",
          "height": 3964
        }
      },
      "cell_type": "code",
      "source": [
        "grid_search = GridSearchCV(lg,\n",
        "                           n_jobs=-1,\n",
        "                           param_grid=param_dist,\n",
        "                           cv = 3,\n",
        "                           verbose=5)\n",
        "\n",
        "grid_search.fit(df_train[columns], y_train)"
      ],
      "execution_count": 0,
      "outputs": [
        {
          "output_type": "stream",
          "text": [
            "Fitting 3 folds for each of 36 candidates, totalling 108 fits\n",
            "[CV] learning_rate=0.1, max_depth=50, n_estimators=200, num_leaves=300 \n",
            "[CV] learning_rate=0.1, max_depth=50, n_estimators=200, num_leaves=300 \n",
            "[CV]  learning_rate=0.1, max_depth=50, n_estimators=200, num_leaves=300, score=0.7746083004425308, total= 7.1min\n",
            "[CV] learning_rate=0.1, max_depth=50, n_estimators=200, num_leaves=300 \n",
            "[CV]  learning_rate=0.1, max_depth=50, n_estimators=200, num_leaves=300, score=0.960222514654863, total= 8.2min\n",
            "[CV] learning_rate=0.1, max_depth=50, n_estimators=200, num_leaves=900 \n",
            "[CV]  learning_rate=0.1, max_depth=50, n_estimators=200, num_leaves=300, score=0.6790308106491175, total= 5.5min\n",
            "[CV] learning_rate=0.1, max_depth=50, n_estimators=200, num_leaves=900 \n",
            "[CV]  learning_rate=0.1, max_depth=50, n_estimators=200, num_leaves=900, score=0.8378184427700036, total= 6.5min\n",
            "[CV] learning_rate=0.1, max_depth=50, n_estimators=200, num_leaves=900 \n",
            "[CV]  learning_rate=0.1, max_depth=50, n_estimators=200, num_leaves=900, score=0.37331020456992464, total= 2.6min\n",
            "[CV] learning_rate=0.1, max_depth=50, n_estimators=200, num_leaves=1200 \n",
            "[CV]  learning_rate=0.1, max_depth=50, n_estimators=200, num_leaves=900, score=0.8002991325157045, total= 2.4min\n",
            "[CV] learning_rate=0.1, max_depth=50, n_estimators=200, num_leaves=1200 \n",
            "[CV]  learning_rate=0.1, max_depth=50, n_estimators=200, num_leaves=1200, score=0.6967468006219352, total= 3.3min\n",
            "[CV] learning_rate=0.1, max_depth=50, n_estimators=200, num_leaves=1200 \n",
            "[CV]  learning_rate=0.1, max_depth=50, n_estimators=200, num_leaves=1200, score=0.8294054312716832, total= 3.2min\n",
            "[CV] learning_rate=0.1, max_depth=50, n_estimators=300, num_leaves=300 \n",
            "[CV]  learning_rate=0.1, max_depth=50, n_estimators=200, num_leaves=1200, score=0.8190846545019443, total= 5.2min\n",
            "[CV] learning_rate=0.1, max_depth=50, n_estimators=300, num_leaves=300 \n",
            "[CV]  learning_rate=0.1, max_depth=50, n_estimators=300, num_leaves=300, score=0.7746083004425308, total= 3.4min\n",
            "[CV] learning_rate=0.1, max_depth=50, n_estimators=300, num_leaves=300 \n",
            "[CV]  learning_rate=0.1, max_depth=50, n_estimators=300, num_leaves=300, score=0.6790308106491175, total= 1.2min\n",
            "[CV] learning_rate=0.1, max_depth=50, n_estimators=300, num_leaves=900 \n",
            "[CV]  learning_rate=0.1, max_depth=50, n_estimators=300, num_leaves=300, score=0.9599832515851179, total= 7.7min\n",
            "[CV] learning_rate=0.1, max_depth=50, n_estimators=300, num_leaves=900 \n",
            "[CV]  learning_rate=0.1, max_depth=50, n_estimators=300, num_leaves=900, score=0.8378184427700036, total= 7.8min\n",
            "[CV] learning_rate=0.1, max_depth=50, n_estimators=300, num_leaves=900 \n",
            "[CV]  learning_rate=0.1, max_depth=50, n_estimators=300, num_leaves=900, score=0.37331020456992464, total=14.0min\n",
            "[CV] learning_rate=0.1, max_depth=50, n_estimators=300, num_leaves=1200 \n"
          ],
          "name": "stdout"
        },
        {
          "output_type": "stream",
          "text": [
            "[Parallel(n_jobs=-1)]: Done  14 tasks      | elapsed: 48.9min\n"
          ],
          "name": "stderr"
        },
        {
          "output_type": "stream",
          "text": [
            "[CV]  learning_rate=0.1, max_depth=50, n_estimators=300, num_leaves=900, score=0.8002991325157045, total=13.7min\n",
            "[CV] learning_rate=0.1, max_depth=50, n_estimators=300, num_leaves=1200 \n",
            "[CV]  learning_rate=0.1, max_depth=50, n_estimators=300, num_leaves=1200, score=0.6967468006219352, total= 3.4min\n",
            "[CV] learning_rate=0.1, max_depth=50, n_estimators=300, num_leaves=1200 \n",
            "[CV]  learning_rate=0.1, max_depth=50, n_estimators=300, num_leaves=1200, score=0.8294054312716832, total= 3.4min\n",
            "[CV] learning_rate=0.1, max_depth=75, n_estimators=200, num_leaves=300 \n",
            "[CV]  learning_rate=0.1, max_depth=75, n_estimators=200, num_leaves=300, score=0.7746083004425308, total= 1.9min\n",
            "[CV] learning_rate=0.1, max_depth=75, n_estimators=200, num_leaves=300 \n",
            "[CV]  learning_rate=0.1, max_depth=50, n_estimators=300, num_leaves=1200, score=0.8190846545019443, total= 4.9min\n",
            "[CV] learning_rate=0.1, max_depth=75, n_estimators=200, num_leaves=300 \n",
            "[CV]  learning_rate=0.1, max_depth=75, n_estimators=200, num_leaves=300, score=0.9593850939107549, total= 8.1min\n",
            "[CV] learning_rate=0.1, max_depth=75, n_estimators=200, num_leaves=900 \n",
            "[CV]  learning_rate=0.1, max_depth=75, n_estimators=200, num_leaves=300, score=0.7651809751720012, total= 6.2min\n",
            "[CV] learning_rate=0.1, max_depth=75, n_estimators=200, num_leaves=900 \n",
            "[CV]  learning_rate=0.1, max_depth=75, n_estimators=200, num_leaves=900, score=0.37331020456992464, total= 2.6min\n",
            "[CV] learning_rate=0.1, max_depth=75, n_estimators=200, num_leaves=900 \n",
            "[CV]  learning_rate=0.1, max_depth=75, n_estimators=200, num_leaves=900, score=0.6418490611170913, total= 2.8min\n",
            "[CV] learning_rate=0.1, max_depth=75, n_estimators=200, num_leaves=1200 \n",
            "[CV]  learning_rate=0.1, max_depth=75, n_estimators=200, num_leaves=900, score=0.8268022734071193, total= 2.5min\n",
            "[CV] learning_rate=0.1, max_depth=75, n_estimators=200, num_leaves=1200 \n",
            "[CV]  learning_rate=0.1, max_depth=75, n_estimators=200, num_leaves=1200, score=0.8214926444205238, total= 3.9min\n",
            "[CV] learning_rate=0.1, max_depth=75, n_estimators=200, num_leaves=1200 \n",
            "[CV]  learning_rate=0.1, max_depth=75, n_estimators=200, num_leaves=1200, score=0.8294054312716832, total= 4.1min\n",
            "[CV] learning_rate=0.1, max_depth=75, n_estimators=300, num_leaves=300 \n",
            "[CV]  learning_rate=0.1, max_depth=75, n_estimators=300, num_leaves=300, score=0.7746083004425308, total= 1.4min\n",
            "[CV] learning_rate=0.1, max_depth=75, n_estimators=300, num_leaves=300 \n",
            "[CV]  learning_rate=0.1, max_depth=75, n_estimators=200, num_leaves=1200, score=0.8190846545019443, total= 5.1min\n",
            "[CV] learning_rate=0.1, max_depth=75, n_estimators=300, num_leaves=300 \n",
            "[CV]  learning_rate=0.1, max_depth=75, n_estimators=300, num_leaves=300, score=0.7651809751720012, total= 1.4min\n",
            "[CV] learning_rate=0.1, max_depth=75, n_estimators=300, num_leaves=900 \n",
            "[CV]  learning_rate=0.1, max_depth=75, n_estimators=300, num_leaves=300, score=0.9596841727479364, total= 3.7min\n",
            "[CV] learning_rate=0.1, max_depth=75, n_estimators=300, num_leaves=900 \n",
            "[CV]  learning_rate=0.1, max_depth=75, n_estimators=300, num_leaves=900, score=0.6418490611170913, total= 2.8min\n",
            "[CV] learning_rate=0.1, max_depth=75, n_estimators=300, num_leaves=900 \n",
            "[CV]  learning_rate=0.1, max_depth=75, n_estimators=300, num_leaves=900, score=0.37331020456992464, total= 3.0min\n",
            "[CV] learning_rate=0.1, max_depth=75, n_estimators=300, num_leaves=1200 \n",
            "[CV]  learning_rate=0.1, max_depth=75, n_estimators=300, num_leaves=900, score=0.8268022734071193, total= 6.2min\n",
            "[CV] learning_rate=0.1, max_depth=75, n_estimators=300, num_leaves=1200 \n",
            "[CV]  learning_rate=0.1, max_depth=75, n_estimators=300, num_leaves=1200, score=0.8214926444205238, total= 7.2min\n",
            "[CV] learning_rate=0.1, max_depth=75, n_estimators=300, num_leaves=1200 \n",
            "[CV]  learning_rate=0.1, max_depth=75, n_estimators=300, num_leaves=1200, score=0.8294054312716832, total= 5.0min\n",
            "[CV] learning_rate=0.5, max_depth=50, n_estimators=200, num_leaves=300 \n",
            "[CV]  learning_rate=0.5, max_depth=50, n_estimators=200, num_leaves=300, score=0.8025355818681976, total=  26.0s\n",
            "[CV] learning_rate=0.5, max_depth=50, n_estimators=200, num_leaves=300 \n",
            "[CV]  learning_rate=0.5, max_depth=50, n_estimators=200, num_leaves=300, score=0.7548749850460581, total=  26.4s\n",
            "[CV] learning_rate=0.5, max_depth=50, n_estimators=200, num_leaves=300 \n",
            "[CV]  learning_rate=0.5, max_depth=50, n_estimators=200, num_leaves=300, score=0.6939874364343405, total= 1.4min\n",
            "[CV] learning_rate=0.5, max_depth=50, n_estimators=200, num_leaves=900 \n",
            "[CV]  learning_rate=0.5, max_depth=50, n_estimators=200, num_leaves=900, score=0.7984092811864609, total= 1.6min\n",
            "[CV] learning_rate=0.5, max_depth=50, n_estimators=200, num_leaves=900 \n",
            "[CV]  learning_rate=0.5, max_depth=50, n_estimators=200, num_leaves=900, score=0.6545639430553895, total= 1.5min\n",
            "[CV] learning_rate=0.5, max_depth=50, n_estimators=200, num_leaves=900 \n",
            "[CV]  learning_rate=0.5, max_depth=50, n_estimators=200, num_leaves=900, score=0.7562668262040084, total=  41.4s\n",
            "[CV] learning_rate=0.5, max_depth=50, n_estimators=200, num_leaves=1200 \n",
            "[CV]  learning_rate=0.5, max_depth=50, n_estimators=200, num_leaves=1200, score=0.7174979069489296, total=  43.7s\n",
            "[CV] learning_rate=0.5, max_depth=50, n_estimators=200, num_leaves=1200 \n",
            "[CV]  learning_rate=0.1, max_depth=75, n_estimators=300, num_leaves=1200, score=0.8190846545019443, total= 9.0min\n",
            "[CV] learning_rate=0.5, max_depth=50, n_estimators=200, num_leaves=1200 \n",
            "[CV]  learning_rate=0.5, max_depth=50, n_estimators=200, num_leaves=1200, score=0.7679329943164822, total= 2.1min\n",
            "[CV] learning_rate=0.5, max_depth=50, n_estimators=300, num_leaves=300 \n",
            "[CV]  learning_rate=0.5, max_depth=50, n_estimators=200, num_leaves=1200, score=0.6705347529608805, total= 2.2min\n",
            "[CV] learning_rate=0.5, max_depth=50, n_estimators=300, num_leaves=300 \n",
            "[CV]  learning_rate=0.5, max_depth=50, n_estimators=300, num_leaves=300, score=0.8025355818681976, total=  43.3s\n",
            "[CV] learning_rate=0.5, max_depth=50, n_estimators=300, num_leaves=300 \n",
            "[CV]  learning_rate=0.5, max_depth=50, n_estimators=300, num_leaves=300, score=0.7548749850460581, total=  47.2s\n",
            "[CV] learning_rate=0.5, max_depth=50, n_estimators=300, num_leaves=900 \n",
            "[CV]  learning_rate=0.5, max_depth=50, n_estimators=300, num_leaves=300, score=0.6939874364343405, total=  34.2s\n",
            "[CV] learning_rate=0.5, max_depth=50, n_estimators=300, num_leaves=900 \n",
            "[CV]  learning_rate=0.5, max_depth=50, n_estimators=300, num_leaves=900, score=0.7984092811864609, total=  57.2s\n",
            "[CV] learning_rate=0.5, max_depth=50, n_estimators=300, num_leaves=900 \n",
            "[CV]  learning_rate=0.5, max_depth=50, n_estimators=300, num_leaves=900, score=0.6545639430553895, total=  57.4s\n",
            "[CV] learning_rate=0.5, max_depth=50, n_estimators=300, num_leaves=1200 \n",
            "[CV]  learning_rate=0.5, max_depth=50, n_estimators=300, num_leaves=900, score=0.7562668262040084, total= 1.7min\n",
            "[CV] learning_rate=0.5, max_depth=50, n_estimators=300, num_leaves=1200 \n",
            "[CV]  learning_rate=0.5, max_depth=50, n_estimators=300, num_leaves=1200, score=0.7174979069489296, total= 9.5min\n",
            "[CV] learning_rate=0.5, max_depth=50, n_estimators=300, num_leaves=1200 \n",
            "[CV]  learning_rate=0.5, max_depth=50, n_estimators=300, num_leaves=1200, score=0.6705347529608805, total= 9.7min\n",
            "[CV] learning_rate=0.5, max_depth=75, n_estimators=200, num_leaves=300 \n",
            "[CV]  learning_rate=0.5, max_depth=75, n_estimators=200, num_leaves=300, score=0.8025355818681976, total= 2.2min\n",
            "[CV] learning_rate=0.5, max_depth=75, n_estimators=200, num_leaves=300 \n",
            "[CV]  learning_rate=0.5, max_depth=50, n_estimators=300, num_leaves=1200, score=0.7679329943164822, total= 4.1min\n",
            "[CV] learning_rate=0.5, max_depth=75, n_estimators=200, num_leaves=300 \n",
            "[CV]  learning_rate=0.5, max_depth=75, n_estimators=200, num_leaves=300, score=0.7548749850460581, total=  30.4s\n",
            "[CV] learning_rate=0.5, max_depth=75, n_estimators=200, num_leaves=900 \n",
            "[CV]  learning_rate=0.5, max_depth=75, n_estimators=200, num_leaves=300, score=0.6939874364343405, total=  27.3s\n",
            "[CV] learning_rate=0.5, max_depth=75, n_estimators=200, num_leaves=900 \n",
            "[CV]  learning_rate=0.5, max_depth=75, n_estimators=200, num_leaves=900, score=0.7984092811864609, total=  39.8s\n",
            "[CV] learning_rate=0.5, max_depth=75, n_estimators=200, num_leaves=900 \n",
            "[CV]  learning_rate=0.5, max_depth=75, n_estimators=200, num_leaves=900, score=0.6545639430553895, total=  38.3s\n",
            "[CV] learning_rate=0.5, max_depth=75, n_estimators=200, num_leaves=1200 \n",
            "[CV]  learning_rate=0.5, max_depth=75, n_estimators=200, num_leaves=900, score=0.7562668262040084, total=  58.3s\n",
            "[CV] learning_rate=0.5, max_depth=75, n_estimators=200, num_leaves=1200 \n",
            "[CV]  learning_rate=0.5, max_depth=75, n_estimators=200, num_leaves=1200, score=0.7174979069489296, total= 1.2min\n",
            "[CV] learning_rate=0.5, max_depth=75, n_estimators=200, num_leaves=1200 \n",
            "[CV]  learning_rate=0.5, max_depth=75, n_estimators=200, num_leaves=1200, score=0.6705347529608805, total=  57.6s\n",
            "[CV] learning_rate=0.5, max_depth=75, n_estimators=300, num_leaves=300 \n",
            "[CV]  learning_rate=0.5, max_depth=75, n_estimators=200, num_leaves=1200, score=0.7679329943164822, total=  55.7s\n",
            "[CV] learning_rate=0.5, max_depth=75, n_estimators=300, num_leaves=300 \n",
            "[CV]  learning_rate=0.5, max_depth=75, n_estimators=300, num_leaves=300, score=0.8025355818681976, total= 1.1min\n",
            "[CV] learning_rate=0.5, max_depth=75, n_estimators=300, num_leaves=300 \n",
            "[CV]  learning_rate=0.5, max_depth=75, n_estimators=300, num_leaves=300, score=0.7548749850460581, total= 1.1min\n",
            "[CV] learning_rate=0.5, max_depth=75, n_estimators=300, num_leaves=900 \n",
            "[CV]  learning_rate=0.5, max_depth=75, n_estimators=300, num_leaves=300, score=0.6939874364343405, total=  42.7s\n",
            "[CV] learning_rate=0.5, max_depth=75, n_estimators=300, num_leaves=900 \n",
            "[CV]  learning_rate=0.5, max_depth=75, n_estimators=300, num_leaves=900, score=0.7984092811864609, total= 1.9min\n",
            "[CV] learning_rate=0.5, max_depth=75, n_estimators=300, num_leaves=900 \n",
            "[CV]  learning_rate=0.5, max_depth=75, n_estimators=300, num_leaves=900, score=0.6545639430553895, total= 2.6min\n",
            "[CV] learning_rate=0.5, max_depth=75, n_estimators=300, num_leaves=1200 \n"
          ],
          "name": "stdout"
        },
        {
          "output_type": "stream",
          "text": [
            "[Parallel(n_jobs=-1)]: Done  68 tasks      | elapsed: 127.9min\n"
          ],
          "name": "stderr"
        },
        {
          "output_type": "stream",
          "text": [
            "[CV]  learning_rate=0.5, max_depth=75, n_estimators=300, num_leaves=900, score=0.7562668262040084, total= 4.8min\n",
            "[CV] learning_rate=0.5, max_depth=75, n_estimators=300, num_leaves=1200 \n",
            "[CV]  learning_rate=0.5, max_depth=75, n_estimators=300, num_leaves=1200, score=0.7174979069489296, total= 4.4min\n",
            "[CV] learning_rate=0.5, max_depth=75, n_estimators=300, num_leaves=1200 \n",
            "[CV]  learning_rate=0.5, max_depth=75, n_estimators=300, num_leaves=1200, score=0.6705347529608805, total=  58.5s\n",
            "[CV] learning_rate=1, max_depth=50, n_estimators=200, num_leaves=300 .\n",
            "[CV]  learning_rate=0.5, max_depth=75, n_estimators=300, num_leaves=1200, score=0.7679329943164822, total=  57.8s\n",
            "[CV] learning_rate=1, max_depth=50, n_estimators=200, num_leaves=300 .\n",
            "[CV]  learning_rate=1, max_depth=50, n_estimators=200, num_leaves=300, score=0.7650998684367899, total=  40.1s\n",
            "[CV] learning_rate=1, max_depth=50, n_estimators=200, num_leaves=300 .\n",
            "[CV]  learning_rate=1, max_depth=50, n_estimators=200, num_leaves=300, score=0.5202775451609044, total= 1.2min\n",
            "[CV] learning_rate=1, max_depth=50, n_estimators=200, num_leaves=900 .\n",
            "[CV]  learning_rate=1, max_depth=50, n_estimators=200, num_leaves=300, score=0.7849835477116363, total= 1.1min\n",
            "[CV] learning_rate=1, max_depth=50, n_estimators=200, num_leaves=900 .\n",
            "[CV]  learning_rate=1, max_depth=50, n_estimators=200, num_leaves=900, score=0.8122832197105609, total=  31.0s\n",
            "[CV] learning_rate=1, max_depth=50, n_estimators=200, num_leaves=900 .\n",
            "[CV]  learning_rate=1, max_depth=50, n_estimators=200, num_leaves=900, score=0.7281971527694701, total=  30.4s\n",
            "[CV] learning_rate=1, max_depth=50, n_estimators=200, num_leaves=1200 \n",
            "[CV]  learning_rate=1, max_depth=50, n_estimators=200, num_leaves=900, score=0.8551600358959018, total=  33.5s\n",
            "[CV] learning_rate=1, max_depth=50, n_estimators=200, num_leaves=1200 \n",
            "[CV]  learning_rate=1, max_depth=50, n_estimators=200, num_leaves=1200, score=0.8055854562851333, total=  35.0s\n",
            "[CV] learning_rate=1, max_depth=50, n_estimators=200, num_leaves=1200 \n",
            "[CV]  learning_rate=1, max_depth=50, n_estimators=200, num_leaves=1200, score=0.5274554372532599, total=  35.0s\n",
            "[CV] learning_rate=1, max_depth=50, n_estimators=300, num_leaves=300 .\n",
            "[CV]  learning_rate=1, max_depth=50, n_estimators=200, num_leaves=1200, score=0.8177684714328447, total= 2.5min\n",
            "[CV] learning_rate=1, max_depth=50, n_estimators=300, num_leaves=300 .\n",
            "[CV]  learning_rate=1, max_depth=50, n_estimators=300, num_leaves=300, score=0.7650998684367899, total= 2.7min\n",
            "[CV] learning_rate=1, max_depth=50, n_estimators=300, num_leaves=300 .\n",
            "[CV]  learning_rate=1, max_depth=50, n_estimators=300, num_leaves=300, score=0.5202775451609044, total=  54.8s\n",
            "[CV] learning_rate=1, max_depth=50, n_estimators=300, num_leaves=900 .\n",
            "[CV]  learning_rate=1, max_depth=50, n_estimators=300, num_leaves=300, score=0.7849835477116363, total= 1.8min\n",
            "[CV] learning_rate=1, max_depth=50, n_estimators=300, num_leaves=900 .\n",
            "[CV]  learning_rate=1, max_depth=50, n_estimators=300, num_leaves=900, score=0.8122832197105609, total= 2.6min\n",
            "[CV] learning_rate=1, max_depth=50, n_estimators=300, num_leaves=900 .\n",
            "[CV]  learning_rate=1, max_depth=50, n_estimators=300, num_leaves=900, score=0.7281971527694701, total= 1.6min\n",
            "[CV] learning_rate=1, max_depth=50, n_estimators=300, num_leaves=1200 \n",
            "[CV]  learning_rate=1, max_depth=50, n_estimators=300, num_leaves=900, score=0.8551600358959018, total=  39.6s\n",
            "[CV] learning_rate=1, max_depth=50, n_estimators=300, num_leaves=1200 \n",
            "[CV]  learning_rate=1, max_depth=50, n_estimators=300, num_leaves=1200, score=0.8055854562851333, total=  43.9s\n",
            "[CV] learning_rate=1, max_depth=50, n_estimators=300, num_leaves=1200 \n",
            "[CV]  learning_rate=1, max_depth=50, n_estimators=300, num_leaves=1200, score=0.5274554372532599, total=  44.4s\n",
            "[CV] learning_rate=1, max_depth=75, n_estimators=200, num_leaves=300 .\n",
            "[CV]  learning_rate=1, max_depth=50, n_estimators=300, num_leaves=1200, score=0.8177684714328447, total=  46.9s\n",
            "[CV] learning_rate=1, max_depth=75, n_estimators=200, num_leaves=300 .\n",
            "[CV]  learning_rate=1, max_depth=75, n_estimators=200, num_leaves=300, score=0.7650998684367899, total=  34.4s\n",
            "[CV] learning_rate=1, max_depth=75, n_estimators=200, num_leaves=300 .\n",
            "[CV]  learning_rate=1, max_depth=75, n_estimators=200, num_leaves=300, score=0.7849835477116363, total=  47.0s\n",
            "[CV] learning_rate=1, max_depth=75, n_estimators=200, num_leaves=900 .\n",
            "[CV]  learning_rate=1, max_depth=75, n_estimators=200, num_leaves=300, score=0.5202775451609044, total=  55.8s\n",
            "[CV] learning_rate=1, max_depth=75, n_estimators=200, num_leaves=900 .\n",
            "[CV]  learning_rate=1, max_depth=75, n_estimators=200, num_leaves=900, score=0.8122832197105609, total=  33.2s\n",
            "[CV] learning_rate=1, max_depth=75, n_estimators=200, num_leaves=900 .\n",
            "[CV]  learning_rate=1, max_depth=75, n_estimators=200, num_leaves=900, score=0.7281971527694701, total=  33.5s\n",
            "[CV] learning_rate=1, max_depth=75, n_estimators=200, num_leaves=1200 \n",
            "[CV]  learning_rate=1, max_depth=75, n_estimators=200, num_leaves=900, score=0.8551600358959018, total=  29.9s\n",
            "[CV] learning_rate=1, max_depth=75, n_estimators=200, num_leaves=1200 \n",
            "[CV]  learning_rate=1, max_depth=75, n_estimators=200, num_leaves=1200, score=0.8055854562851333, total=  35.2s\n",
            "[CV] learning_rate=1, max_depth=75, n_estimators=200, num_leaves=1200 \n",
            "[CV]  learning_rate=1, max_depth=75, n_estimators=200, num_leaves=1200, score=0.5274554372532599, total=  38.2s\n",
            "[CV] learning_rate=1, max_depth=75, n_estimators=300, num_leaves=300 .\n",
            "[CV]  learning_rate=1, max_depth=75, n_estimators=200, num_leaves=1200, score=0.8177684714328447, total=  36.8s\n",
            "[CV] learning_rate=1, max_depth=75, n_estimators=300, num_leaves=300 .\n",
            "[CV]  learning_rate=1, max_depth=75, n_estimators=300, num_leaves=300, score=0.7650998684367899, total= 1.5min\n",
            "[CV] learning_rate=1, max_depth=75, n_estimators=300, num_leaves=300 .\n",
            "[CV]  learning_rate=1, max_depth=75, n_estimators=300, num_leaves=300, score=0.5202775451609044, total= 1.8min\n",
            "[CV] learning_rate=1, max_depth=75, n_estimators=300, num_leaves=900 .\n",
            "[CV]  learning_rate=1, max_depth=75, n_estimators=300, num_leaves=300, score=0.7849835477116363, total=  55.0s\n",
            "[CV] learning_rate=1, max_depth=75, n_estimators=300, num_leaves=900 .\n",
            "[CV]  learning_rate=1, max_depth=75, n_estimators=300, num_leaves=900, score=0.8122832197105609, total=  44.1s\n",
            "[CV] learning_rate=1, max_depth=75, n_estimators=300, num_leaves=900 .\n",
            "[CV]  learning_rate=1, max_depth=75, n_estimators=300, num_leaves=900, score=0.7281971527694701, total= 2.0min\n",
            "[CV] learning_rate=1, max_depth=75, n_estimators=300, num_leaves=1200 \n",
            "[CV]  learning_rate=1, max_depth=75, n_estimators=300, num_leaves=900, score=0.8551600358959018, total= 2.3min\n",
            "[CV] learning_rate=1, max_depth=75, n_estimators=300, num_leaves=1200 \n",
            "[CV]  learning_rate=1, max_depth=75, n_estimators=300, num_leaves=1200, score=0.8055854562851333, total=  44.0s\n",
            "[CV] learning_rate=1, max_depth=75, n_estimators=300, num_leaves=1200 \n",
            "[CV]  learning_rate=1, max_depth=75, n_estimators=300, num_leaves=1200, score=0.5274554372532599, total=  42.0s\n",
            "[CV]  learning_rate=1, max_depth=75, n_estimators=300, num_leaves=1200, score=0.8177684714328447, total=  33.6s\n"
          ],
          "name": "stdout"
        },
        {
          "output_type": "stream",
          "text": [
            "[Parallel(n_jobs=-1)]: Done 108 out of 108 | elapsed: 152.6min finished\n"
          ],
          "name": "stderr"
        },
        {
          "output_type": "execute_result",
          "data": {
            "text/plain": [
              "GridSearchCV(cv=3, error_score='raise',\n",
              "       estimator=LGBMClassifier(boosting_type='gbdt', class_weight=None, colsample_bytree=1.0,\n",
              "        importance_type='split', learning_rate=0.1, max_depth=-1,\n",
              "        min_child_samples=20, min_child_weight=0.001, min_split_gain=0.0,\n",
              "        n_estimators=100, n_jobs=-1, num_leaves=31, objective=None,\n",
              "        random_state=None, reg_alpha=0.0, reg_lambda=0.0, silent=False,\n",
              "        subsample=1.0, subsample_for_bin=200000, subsample_freq=0),\n",
              "       fit_params=None, iid=True, n_jobs=-1,\n",
              "       param_grid={'max_depth': [50, 75], 'learning_rate': [0.1, 0.5, 1], 'num_leaves': [300, 900, 1200], 'n_estimators': [200, 300]},\n",
              "       pre_dispatch='2*n_jobs', refit=True, return_train_score='warn',\n",
              "       scoring=None, verbose=5)"
            ]
          },
          "metadata": {
            "tags": []
          },
          "execution_count": 17
        }
      ]
    },
    {
      "metadata": {
        "id": "Ab09o8fOAgnD",
        "colab_type": "code",
        "outputId": "466b0a3a-8060-4f33-a7eb-e3bf0129735e",
        "colab": {
          "base_uri": "https://localhost:8080/",
          "height": 54
        }
      },
      "cell_type": "code",
      "source": [
        "print(\"Best parameters: {} with score: {}\".format(grid_search.best_params_,\n",
        "                                                  grid_search.best_score_))"
      ],
      "execution_count": 0,
      "outputs": [
        {
          "output_type": "stream",
          "text": [
            "Best parameters: {'learning_rate': 0.1, 'max_depth': 75, 'n_estimators': 300, 'num_leaves': 300} with score: 0.8331572126408134\n"
          ],
          "name": "stdout"
        }
      ]
    },
    {
      "metadata": {
        "id": "FySLGmaaBinz",
        "colab_type": "code",
        "colab": {}
      },
      "cell_type": "code",
      "source": [
        "model = grid_search.best_estimator_.fit(df_train[columns], y_train)"
      ],
      "execution_count": 0,
      "outputs": []
    },
    {
      "metadata": {
        "id": "H8gHYd4PCKIH",
        "colab_type": "code",
        "outputId": "35236ce2-afd2-4f26-8d54-edd7dcc9da6a",
        "colab": {
          "base_uri": "https://localhost:8080/",
          "height": 51
        }
      },
      "cell_type": "code",
      "source": [
        "print('train', metrics.f1_score(y_train, model.predict(df_train[columns]), average='macro'))\n",
        "print('test', metrics.f1_score(y_test, model.predict(df_test[columns]), average='macro'))"
      ],
      "execution_count": 0,
      "outputs": [
        {
          "output_type": "stream",
          "text": [
            "train 0.07234807581842799\n",
            "test 0.07518966533865713\n"
          ],
          "name": "stdout"
        }
      ]
    },
    {
      "metadata": {
        "id": "fSKLEVecC5r0",
        "colab_type": "code",
        "outputId": "e2d4ef10-7cf0-4ec2-d738-f4ab098dc81a",
        "colab": {
          "base_uri": "https://localhost:8080/",
          "height": 241
        }
      },
      "cell_type": "code",
      "source": [
        "!pip install catboost"
      ],
      "execution_count": 0,
      "outputs": [
        {
          "output_type": "stream",
          "text": [
            "Collecting catboost\n",
            "\u001b[?25l  Downloading https://files.pythonhosted.org/packages/19/ea/d6cbdf03fb1e8ea8c7c7a0b37b89c8f8b3825ec625d428d49b6230656c00/catboost-0.11.1-cp36-none-manylinux1_x86_64.whl (55.3MB)\n",
            "\u001b[K    100% |████████████████████████████████| 55.3MB 430kB/s \n",
            "\u001b[?25hRequirement already satisfied: numpy>=1.11.1 in /usr/local/lib/python3.6/dist-packages (from catboost) (1.14.6)\n",
            "Requirement already satisfied: pandas>=0.19.1 in /usr/local/lib/python3.6/dist-packages (from catboost) (0.22.0)\n",
            "Collecting enum34 (from catboost)\n",
            "  Downloading https://files.pythonhosted.org/packages/af/42/cb9355df32c69b553e72a2e28daee25d1611d2c0d9c272aa1d34204205b2/enum34-1.1.6-py3-none-any.whl\n",
            "Requirement already satisfied: six in /usr/local/lib/python3.6/dist-packages (from catboost) (1.11.0)\n",
            "Requirement already satisfied: python-dateutil>=2 in /usr/local/lib/python3.6/dist-packages (from pandas>=0.19.1->catboost) (2.5.3)\n",
            "Requirement already satisfied: pytz>=2011k in /usr/local/lib/python3.6/dist-packages (from pandas>=0.19.1->catboost) (2018.7)\n",
            "Installing collected packages: enum34, catboost\n",
            "Successfully installed catboost-0.11.1 enum34-1.1.6\n"
          ],
          "name": "stdout"
        }
      ]
    },
    {
      "metadata": {
        "id": "3G76eutVtaiO",
        "colab_type": "code",
        "colab": {}
      },
      "cell_type": "code",
      "source": [
        "from catboost import CatBoostClassifier"
      ],
      "execution_count": 0,
      "outputs": []
    },
    {
      "metadata": {
        "id": "g6s55xvgo71G",
        "colab_type": "code",
        "colab": {}
      },
      "cell_type": "code",
      "source": [
        "param_dist = {'learning_rate': [0.01, 0.1, 1.0],\n",
        "              'depth': [5, 10]}\n",
        "\n",
        "cbc = CatBoostClassifier(learning_rate=1,\n",
        "                         iterations=800,\n",
        "                         random_state=SEED,\n",
        "                         early_stopping_rounds=10,\n",
        "                         loss_function='MultiClassOneVsAll',\n",
        "                         custom_loss='F1')\n",
        "\n",
        "grid_search_cat = GridSearchCV(cbc,\n",
        "                           n_jobs=-1,\n",
        "                           param_grid=param_dist,\n",
        "                           cv = 3,\n",
        "                           verbose=5)\n",
        "\n",
        "grid_search_cat.fit(df_train[columns], y_train)"
      ],
      "execution_count": 0,
      "outputs": []
    },
    {
      "metadata": {
        "id": "ZmpnavjhFg_E",
        "colab_type": "code",
        "outputId": "6c40be66-db70-454c-f8dc-fd93807e114a",
        "colab": {
          "base_uri": "https://localhost:8080/",
          "height": 181
        }
      },
      "cell_type": "code",
      "source": [
        "print(\"Best parameters: {} with score: {}\".format(grid_search_cat.best_params_,\n",
        "                                                  grid_search_cat.best_score_))"
      ],
      "execution_count": 0,
      "outputs": [
        {
          "output_type": "error",
          "ename": "AttributeError",
          "evalue": "ignored",
          "traceback": [
            "\u001b[0;31m---------------------------------------------------------------------------\u001b[0m",
            "\u001b[0;31mAttributeError\u001b[0m                            Traceback (most recent call last)",
            "\u001b[0;32m<ipython-input-47-793edb42d29f>\u001b[0m in \u001b[0;36m<module>\u001b[0;34m()\u001b[0m\n\u001b[0;32m----> 1\u001b[0;31m print(\"Best parameters: {} with score: {}\".format(grid_search_cat.best_params_,\n\u001b[0m\u001b[1;32m      2\u001b[0m                                                   grid_search_cat.best_score_))\n",
            "\u001b[0;31mAttributeError\u001b[0m: 'GridSearchCV' object has no attribute 'best_params_'"
          ]
        }
      ]
    },
    {
      "metadata": {
        "id": "UNGraylzIWwX",
        "colab_type": "text"
      },
      "cell_type": "markdown",
      "source": [
        "**Здесь у меня вылетел интернет и все слетело... Постараюсь прогнать GridSearch еще раз...**\n",
        "\n"
      ]
    }
  ]
}