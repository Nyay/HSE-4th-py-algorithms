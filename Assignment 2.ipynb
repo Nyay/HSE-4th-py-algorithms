{
 "cells": [
  {
   "cell_type": "markdown",
   "metadata": {},
   "source": [
    "# Assignment 2\n",
    "\n",
    "Продемонстрировать положение No Free Lunch Theorem. (см материалы семинара)\n",
    "Качество работы оценивается по accuracy на тестовой выборке согласно пайплайну (см материалы семинара). Метод валидации (если вы его применяете) 5-fold cv.\n",
    "В выводе для каждой модели указать какие предположения она делает относительно данных. В выводе указать почему модель плохо / хорошо работает на сгенерированной вами выборке. Использовать пространство признаков размерности 2 при классификации и размерности 1 при регрессии. При возможности, нарисовать выборку на графике (цветами обозначить классы).\n",
    "\n",
    "#### Сгенерировать датасет для задачи бинарной классификации (binary crossentropy), на котором метод ближайших соседей работает хуже, чем логистическая регрессия.\n",
    "\n",
    "\n",
    "Для построения такого датасета, нам необходимо сделать так, чтобы классы было легко разделить прямой линией, но при этом расстояние между соседями этих классов было быльше, чем до представителей другого класса. Этого можно дабиться тем, что зададим распределение элементов линейной функцией."
   ]
  },
  {
   "cell_type": "code",
   "execution_count": 212,
   "metadata": {
    "collapsed": true
   },
   "outputs": [],
   "source": [
    "import random\n",
    "import pandas as pd\n",
    "import warnings\n",
    "import math\n",
    "import numpy as np\n",
    "import matplotlib.pyplot as plt\n",
    "\n",
    "warnings.filterwarnings('ignore')\n",
    "%matplotlib inline "
   ]
  },
  {
   "cell_type": "code",
   "execution_count": 554,
   "metadata": {},
   "outputs": [],
   "source": [
    "xs = []\n",
    "ys = []\n",
    "target = []\n",
    "\n",
    "for num in range(1, 31, 3):\n",
    "    ys += [2 * num, 2 * num + 2]\n",
    "    xs += [num + 3, num]\n",
    "    target += [1, 0]"
   ]
  },
  {
   "cell_type": "code",
   "execution_count": 555,
   "metadata": {},
   "outputs": [],
   "source": [
    "X = pd.DataFrame({'X':xs,\n",
    "                  'Y':ys})\n",
    "y = pd.DataFrame({'Class':target})"
   ]
  },
  {
   "cell_type": "code",
   "execution_count": 680,
   "metadata": {},
   "outputs": [],
   "source": [
    "X_train, X_test, y_train, y_test = train_test_split(X, y, test_size=0.3)"
   ]
  },
  {
   "cell_type": "code",
   "execution_count": 681,
   "metadata": {
    "collapsed": true
   },
   "outputs": [],
   "source": [
    "train = pd.concat([X_train, y_train], axis=1)\n",
    "test = pd.concat([X_test, y_test], axis=1)"
   ]
  },
  {
   "cell_type": "code",
   "execution_count": 682,
   "metadata": {},
   "outputs": [
    {
     "data": {
      "image/png": "[encoded data removed]",
      "text/plain": [
       "<matplotlib.figure.Figure at 0x1041b6940>"
      ]
     },
     "metadata": {},
     "output_type": "display_data"
    }
   ],
   "source": [
    "plt.plot(list(train.X[train.Class == 1]),\n",
    "         list(train.Y[train.Class == 1]),\n",
    "         '.',\n",
    "         label='Train 1')\n",
    "plt.plot(list(train.X[train.Class == 0]),\n",
    "         list(train.Y[train.Class == 0]), \n",
    "         '.',\n",
    "         label='Train 0')\n",
    "plt.plot(list(test.X),\n",
    "         list(test.Y), \n",
    "         '.',\n",
    "         label='Test')\n",
    "plt.legend()\n",
    "plt.show()"
   ]
  },
  {
   "cell_type": "code",
   "execution_count": 683,
   "metadata": {},
   "outputs": [],
   "source": [
    "from sklearn.neighbors import KNeighborsClassifier\n",
    "from sklearn.linear_model import LogisticRegression\n",
    "from sklearn.model_selection import train_test_split, cross_val_score"
   ]
  },
  {
   "cell_type": "code",
   "execution_count": 684,
   "metadata": {},
   "outputs": [],
   "source": [
    "KNC = KNeighborsClassifier(n_neighbors=3, p=2, metric='minkowski')\n",
    "LR = LogisticRegression()"
   ]
  },
  {
   "cell_type": "code",
   "execution_count": 685,
   "metadata": {},
   "outputs": [
    {
     "name": "stdout",
     "output_type": "stream",
     "text": [
      "KNeighborsClassifier\n",
      "Score: 0.3333333333333333\n",
      "CV-Score: 0.8 (+/- 0.4898979485566356)\n"
     ]
    }
   ],
   "source": [
    "KNC = KNeighborsClassifier()\n",
    "KNC.fit(X=X_train,y=y_train)\n",
    "cv_scores_KNC = cross_val_score(KNC, X, y, cv=5)\n",
    "print('KNeighborsClassifier\\n'\\\n",
    "      'Score: {}\\n'\\\n",
    "      'CV-Score: {} (+/- {})'.format(KNC.score(X_test, y_test),\n",
    "                                     cv_scores_KNC.mean(),\n",
    "                                     cv_scores_KNC.std() * 2))"
   ]
  },
  {
   "cell_type": "code",
   "execution_count": 686,
   "metadata": {},
   "outputs": [
    {
     "name": "stdout",
     "output_type": "stream",
     "text": [
      "LogisticRegression\n",
      "Score: 1.0\n",
      "CV-Score: 1.0 (+/- 0.0)\n"
     ]
    }
   ],
   "source": [
    "LR = LogisticRegression()\n",
    "LR.fit(X=X_train,y=y_train)\n",
    "cv_scores_LR = cross_val_score(LR, X, y, cv=5)\n",
    "print('LogisticRegression\\n'\\\n",
    "      'Score: {}\\n'\\\n",
    "      'CV-Score: {} (+/- {})'.format(LR.score(X_test, y_test),\n",
    "                                     cv_scores_LR.mean(),\n",
    "                                     cv_scores_LR.std() * 2))"
   ]
  },
  {
   "cell_type": "markdown",
   "metadata": {},
   "source": [
    "_______"
   ]
  },
  {
   "cell_type": "markdown",
   "metadata": {},
   "source": [
    "#### Сгенерировать датасет для задачи бинарной классификации (binary crossentropy), на котором логистическая регрессия работает хуже, чем метод ближайших соседей.\n",
    "\n",
    "Для этой задачи, нам необходимо сделать наоборот. Надо сделать такой датасет, который будет сложно поделить линейно."
   ]
  },
  {
   "cell_type": "code",
   "execution_count": 688,
   "metadata": {},
   "outputs": [],
   "source": [
    "from sklearn.datasets import make_circles"
   ]
  },
  {
   "cell_type": "code",
   "execution_count": 689,
   "metadata": {},
   "outputs": [],
   "source": [
    "x_s, y_s = make_circles(noise=0.1, factor=0.9, random_state=1)"
   ]
  },
  {
   "cell_type": "code",
   "execution_count": 690,
   "metadata": {},
   "outputs": [],
   "source": [
    "X_circles = pd.DataFrame(x_s)\n",
    "y_circles = pd.DataFrame(y_s)\n",
    "\n",
    "X_train, X_test, y_train, y_test = train_test_split(X, y, test_size=0.3)\n",
    "\n",
    "train = pd.concat([X_train, y_train], axis=1)\n",
    "test = pd.concat([X_test, y_test], axis=1)"
   ]
  },
  {
   "cell_type": "code",
   "execution_count": 691,
   "metadata": {},
   "outputs": [
    {
     "data": {
      "image/png": "[encoded data removed]",
      "text/plain": [
       "<matplotlib.figure.Figure at 0x10b789780>"
      ]
     },
     "metadata": {},
     "output_type": "display_data"
    }
   ],
   "source": [
    "plt.plot(X_circles[0],\n",
    "         X_circles[1], \n",
    "         '.',\n",
    "         label='0.9')\n",
    "plt.legend()\n",
    "plt.show()"
   ]
  },
  {
   "cell_type": "code",
   "execution_count": null,
   "metadata": {
    "collapsed": true
   },
   "outputs": [],
   "source": []
  }
 ],
 "metadata": {
  "kernelspec": {
   "display_name": "Python 3",
   "language": "python",
   "name": "python3"
  },
  "language_info": {
   "codemirror_mode": {
    "name": "ipython",
    "version": 3
   },
   "file_extension": ".py",
   "mimetype": "text/x-python",
   "name": "python",
   "nbconvert_exporter": "python",
   "pygments_lexer": "ipython3",
   "version": "3.5.2"
  }
 },
 "nbformat": 4,
 "nbformat_minor": 2
}
