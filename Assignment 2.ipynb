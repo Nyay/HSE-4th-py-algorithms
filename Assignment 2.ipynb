{
 "cells": [
  {
   "cell_type": "markdown",
   "metadata": {},
   "source": [
    "# Assignment 2\n",
    "\n",
    "Продемонстрировать положение No Free Lunch Theorem. (см материалы семинара)\n",
    "Качество работы оценивается по accuracy на тестовой выборке согласно пайплайну (см материалы семинара). Метод валидации (если вы его применяете) 5-fold cv.\n",
    "В выводе для каждой модели указать какие предположения она делает относительно данных. В выводе указать почему модель плохо / хорошо работает на сгенерированной вами выборке. Использовать пространство признаков размерности 2 при классификации и размерности 1 при регрессии. При возможности, нарисовать выборку на графике (цветами обозначить классы).\n",
    "\n",
    "#### Сгенерировать датасет для задачи бинарной классификации (binary crossentropy), на котором метод ближайших соседей работает хуже, чем логистическая регрессия.\n",
    "\n",
    "\n",
    "Для построения такого датасета, нам необходимо сделать так, чтобы классы было легко разделить прямой линией, но при этом расстояние между соседями этих классов было быльше, чем до представителей другого класса. Этого можно дабиться тем, что зададим распределение элементов линейной функцией."
   ]
  },
  {
   "cell_type": "code",
   "execution_count": 760,
   "metadata": {
    "collapsed": true
   },
   "outputs": [],
   "source": [
    "import random\n",
    "import pandas as pd\n",
    "import warnings\n",
    "import math\n",
    "import numpy as np\n",
    "import matplotlib.pyplot as plt\n",
    "\n",
    "warnings.filterwarnings('ignore')\n",
    "%matplotlib inline "
   ]
  },
  {
   "cell_type": "code",
   "execution_count": 791,
   "metadata": {},
   "outputs": [],
   "source": [
    "xs = []\n",
    "ys = []\n",
    "target = []\n",
    "\n",
    "for num in range(1, 31, 3):\n",
    "    ys += [2 * num, 2 * num + 2]\n",
    "    xs += [num + 3, num]\n",
    "    target += [1, 0]"
   ]
  },
  {
   "cell_type": "code",
   "execution_count": 792,
   "metadata": {},
   "outputs": [],
   "source": [
    "X = pd.DataFrame({'X':xs,\n",
    "                  'Y':ys})\n",
    "y = pd.DataFrame({'Class':target})"
   ]
  },
  {
   "cell_type": "code",
   "execution_count": 793,
   "metadata": {},
   "outputs": [],
   "source": [
    "X_train, X_test, y_train, y_test = train_test_split(X, y, test_size=0.3)"
   ]
  },
  {
   "cell_type": "code",
   "execution_count": 764,
   "metadata": {
    "collapsed": true
   },
   "outputs": [],
   "source": [
    "train = pd.concat([X_train, y_train], axis=1)\n",
    "test = pd.concat([X_test, y_test], axis=1)"
   ]
  },
  {
   "cell_type": "code",
   "execution_count": 765,
   "metadata": {},
   "outputs": [
    {
     "data": {
      "image/png": "[encoded data removed]",
      "text/plain": [
       "<matplotlib.figure.Figure at 0x1040c27b8>"
      ]
     },
     "metadata": {},
     "output_type": "display_data"
    }
   ],
   "source": [
    "plt.plot(list(train.X[train.Class == 1]),\n",
    "         list(train.Y[train.Class == 1]),\n",
    "         '.',\n",
    "         label='Train 1')\n",
    "plt.plot(list(train.X[train.Class == 0]),\n",
    "         list(train.Y[train.Class == 0]), \n",
    "         '.',\n",
    "         label='Train 0')\n",
    "plt.plot(list(test.X),\n",
    "         list(test.Y), \n",
    "         '.',\n",
    "         label='Test')\n",
    "plt.legend()\n",
    "plt.show()"
   ]
  },
  {
   "cell_type": "code",
   "execution_count": 766,
   "metadata": {},
   "outputs": [],
   "source": [
    "from sklearn.neighbors import KNeighborsClassifier\n",
    "from sklearn.linear_model import LogisticRegression\n",
    "from sklearn.model_selection import train_test_split, cross_val_score"
   ]
  },
  {
   "cell_type": "code",
   "execution_count": 767,
   "metadata": {},
   "outputs": [],
   "source": [
    "KNC = KNeighborsClassifier()\n",
    "LR = LogisticRegression()"
   ]
  },
  {
   "cell_type": "code",
   "execution_count": 768,
   "metadata": {},
   "outputs": [
    {
     "name": "stdout",
     "output_type": "stream",
     "text": [
      "KNeighborsClassifier\n",
      "Score: 0.16666666666666666\n",
      "CV-Score: 0.8 (+/- 0.4898979485566356)\n"
     ]
    }
   ],
   "source": [
    "KNC = KNeighborsClassifier()\n",
    "KNC.fit(X=X_train,y=y_train)\n",
    "cv_scores_KNC = cross_val_score(KNC, X, y, cv=5)\n",
    "print('KNeighborsClassifier\\n'\\\n",
    "      'Score: {}\\n'\\\n",
    "      'CV-Score: {} (+/- {})'.format(KNC.score(X_test, y_test),\n",
    "                                     cv_scores_KNC.mean(),\n",
    "                                     cv_scores_KNC.std() * 2))"
   ]
  },
  {
   "cell_type": "code",
   "execution_count": 769,
   "metadata": {},
   "outputs": [
    {
     "name": "stdout",
     "output_type": "stream",
     "text": [
      "LogisticRegression\n",
      "Score: 1.0\n",
      "CV-Score: 1.0 (+/- 0.0)\n"
     ]
    }
   ],
   "source": [
    "LR = LogisticRegression()\n",
    "LR.fit(X=X_train,y=y_train)\n",
    "cv_scores_LR = cross_val_score(LR, X, y, cv=5)\n",
    "print('LogisticRegression\\n'\\\n",
    "      'Score: {}\\n'\\\n",
    "      'CV-Score: {} (+/- {})'.format(LR.score(X_test, y_test),\n",
    "                                     cv_scores_LR.mean(),\n",
    "                                     cv_scores_LR.std() * 2))"
   ]
  },
  {
   "cell_type": "markdown",
   "metadata": {},
   "source": [
    "_______"
   ]
  },
  {
   "cell_type": "markdown",
   "metadata": {},
   "source": [
    "#### Сгенерировать датасет для задачи бинарной классификации (binary crossentropy), на котором логистическая регрессия работает хуже, чем метод ближайших соседей.\n",
    "\n",
    "Для этой задачи, нам необходимо сделать наоборот. Надо сделать такой датасет, который будет сложно поделить линейно, но при этом представители одного класса должны быть относительно близко, иначе метод ближайших соседей будет не сильно эффективен (Например для make_circles(noise=0.1, factor=0.9))."
   ]
  },
  {
   "cell_type": "code",
   "execution_count": 770,
   "metadata": {},
   "outputs": [],
   "source": [
    "from sklearn.datasets import make_circles"
   ]
  },
  {
   "cell_type": "code",
   "execution_count": 771,
   "metadata": {},
   "outputs": [],
   "source": [
    "x_s, y_s = make_circles(noise=0.1, factor=0.2)"
   ]
  },
  {
   "cell_type": "code",
   "execution_count": 772,
   "metadata": {},
   "outputs": [],
   "source": [
    "X_circles = pd.DataFrame(x_s)\n",
    "y_circles = pd.DataFrame({'Target':y_s})\n",
    "\n",
    "X_train, X_test, y_train, y_test = train_test_split(X_circles, y_circles, test_size=0.3)\n",
    "\n",
    "train = pd.concat([X_train, y_train], axis=1)\n",
    "test = pd.concat([X_test, y_test], axis=1)"
   ]
  },
  {
   "cell_type": "code",
   "execution_count": 773,
   "metadata": {},
   "outputs": [
    {
     "data": {
      "image/png": "[encoded data removed]",
      "text/plain": [
       "<matplotlib.figure.Figure at 0x1040c2fd0>"
      ]
     },
     "metadata": {},
     "output_type": "display_data"
    }
   ],
   "source": [
    "plt.plot(list(train[0][train.Target == 1]),\n",
    "         list(train[1][train.Target == 1]),\n",
    "         '.',\n",
    "         label='Train 1')\n",
    "plt.plot(list(train[0][train.Target == 0]),\n",
    "         list(train[1][train.Target == 0]), \n",
    "         '.',\n",
    "         label='Train 0')\n",
    "plt.plot(list(test[0]),\n",
    "         list(test[1]), \n",
    "         '.',\n",
    "         label='Test')\n",
    "plt.legend()\n",
    "plt.show()"
   ]
  },
  {
   "cell_type": "code",
   "execution_count": 774,
   "metadata": {},
   "outputs": [
    {
     "name": "stdout",
     "output_type": "stream",
     "text": [
      "KNeighborsClassifier\n",
      "Score: 1.0\n",
      "CV-Score: 1.0 (+/- 0.0)\n"
     ]
    }
   ],
   "source": [
    "KNC = KNeighborsClassifier()\n",
    "KNC.fit(X=X_train,y=y_train)\n",
    "cv_scores_KNC = cross_val_score(KNC, X_circles, y_circles, cv=5)\n",
    "print('KNeighborsClassifier\\n'\\\n",
    "      'Score: {}\\n'\\\n",
    "      'CV-Score: {} (+/- {})'.format(KNC.score(X_test, y_test),\n",
    "                                     cv_scores_KNC.mean(),\n",
    "                                     cv_scores_KNC.std() * 2))"
   ]
  },
  {
   "cell_type": "code",
   "execution_count": 775,
   "metadata": {},
   "outputs": [
    {
     "name": "stdout",
     "output_type": "stream",
     "text": [
      "LogisticRegression\n",
      "Score: 0.4666666666666667\n",
      "CV-Score: 0.36 (+/- 0.11661903789690603)\n"
     ]
    }
   ],
   "source": [
    "LR = LogisticRegression()\n",
    "LR.fit(X=X_train,y=y_train)\n",
    "cv_scores_LR = cross_val_score(LR, X_circles, y_circles, cv=5)\n",
    "print('LogisticRegression\\n'\\\n",
    "      'Score: {}\\n'\\\n",
    "      'CV-Score: {} (+/- {})'.format(LR.score(X_test, y_test),\n",
    "                                     cv_scores_LR.mean(),\n",
    "                                     cv_scores_LR.std() * 2))"
   ]
  },
  {
   "cell_type": "markdown",
   "metadata": {},
   "source": [
    "#### Сгенерировать датасет для задачи бинарной классификации (binary crossentropy), на котором метод ближайших соседей с косинусной метрикой расстояния работает лучше, чем с евклидовой метрикой.\n",
    "\n",
    "Основная разница между двумя метриками заключаеьтся в том, что коссинусная метрика использует угол между двумя точками на плоскости, а евклидова метрика расстояние между этими точками. Поэтому, необходимо составить такой датасет, на котором расстояние между точками класса будет не таким показательным, как угол между ними."
   ]
  },
  {
   "cell_type": "code",
   "execution_count": 844,
   "metadata": {
    "collapsed": true
   },
   "outputs": [],
   "source": [
    "xs = []\n",
    "ys = []\n",
    "target = []\n",
    "\n",
    "for num in range(1, 1001, 100):\n",
    "    ys += [10, 20]\n",
    "    xs += [num + 50, num]\n",
    "    target += [1, 0]"
   ]
  },
  {
   "cell_type": "code",
   "execution_count": 845,
   "metadata": {
    "collapsed": true
   },
   "outputs": [],
   "source": [
    "X = pd.DataFrame({'X':xs,\n",
    "                  'Y':ys})\n",
    "y = pd.DataFrame({'Class':target})\n",
    "\n",
    "X_train, X_test, y_train, y_test = train_test_split(X, y, test_size=0.3)\n",
    "\n",
    "train = pd.concat([X_train, y_train], axis=1)\n",
    "test = pd.concat([X_test, y_test], axis=1)"
   ]
  },
  {
   "cell_type": "code",
   "execution_count": 846,
   "metadata": {},
   "outputs": [
    {
     "data": {
      "image/png": "[encoded data removed]",
      "text/plain": [
       "<matplotlib.figure.Figure at 0x10c3a3908>"
      ]
     },
     "metadata": {},
     "output_type": "display_data"
    }
   ],
   "source": [
    "plt.plot(list(train.X[train.Class == 1]),\n",
    "         list(train.Y[train.Class == 1]),\n",
    "         '.',\n",
    "         label='Train 1')\n",
    "plt.plot(list(train.X[train.Class == 0]),\n",
    "         list(train.Y[train.Class == 0]), \n",
    "         '.',\n",
    "         label='Train 0')\n",
    "plt.plot(list(test.X),\n",
    "         list(test.Y), \n",
    "         '.',\n",
    "         label='Test')\n",
    "plt.legend()\n",
    "plt.show()"
   ]
  },
  {
   "cell_type": "code",
   "execution_count": 847,
   "metadata": {
    "collapsed": true
   },
   "outputs": [],
   "source": [
    "from scipy.spatial.distance import cosine"
   ]
  },
  {
   "cell_type": "code",
   "execution_count": 848,
   "metadata": {},
   "outputs": [],
   "source": [
    "KNC_euclidean = KNeighborsClassifier(metric='euclidean')\n",
    "KNC_cd = KNeighborsClassifier(metric=cosine)"
   ]
  },
  {
   "cell_type": "code",
   "execution_count": 849,
   "metadata": {},
   "outputs": [
    {
     "name": "stdout",
     "output_type": "stream",
     "text": [
      "Euclidean metric\n",
      "Score: 0.3333333333333333\n",
      "CV-Score: 0.8 (+/- 0.4898979485566356)\n",
      "\n",
      "Cosin metric\n",
      "Score: 0.5\n",
      "CV-Score: 0.6 (+/- 0.2449489742783178)\n"
     ]
    }
   ],
   "source": [
    "KNC_euclidean.fit(X=X_train,y=y_train)\n",
    "cv_scores_KNC_eu = cross_val_score(KNC_euclidean, X, y, cv=5)\n",
    "print('Euclidean metric\\n'\\\n",
    "      'Score: {}\\n'\\\n",
    "      'CV-Score: {} (+/- {})\\n'.format(KNC_euclidean.score(X_test, y_test),\n",
    "                                     cv_scores_KNC_eu.mean(),\n",
    "                                     cv_scores_KNC_eu.std() * 2))\n",
    "\n",
    "KNC_cd.fit(X=X_train,y=y_train)\n",
    "cv_scores_KNC_cd = cross_val_score(KNC_cd, X, y, cv=5)\n",
    "print('Cosin metric\\n'\\\n",
    "      'Score: {}\\n'\\\n",
    "      'CV-Score: {} (+/- {})'.format(KNC_cd.score(X_test, y_test),\n",
    "                                     cv_scores_KNC_cd.mean(),\n",
    "                                     cv_scores_KNC_cd.std() * 2))"
   ]
  },
  {
   "cell_type": "markdown",
   "metadata": {},
   "source": [
    "Также сюда подходит датасет из первого задания."
   ]
  },
  {
   "cell_type": "code",
   "execution_count": null,
   "metadata": {
    "collapsed": true
   },
   "outputs": [],
   "source": []
  }
 ],
 "metadata": {
  "kernelspec": {
   "display_name": "Python 3",
   "language": "python",
   "name": "python3"
  },
  "language_info": {
   "codemirror_mode": {
    "name": "ipython",
    "version": 3
   },
   "file_extension": ".py",
   "mimetype": "text/x-python",
   "name": "python",
   "nbconvert_exporter": "python",
   "pygments_lexer": "ipython3",
   "version": "3.5.2"
  }
 },
 "nbformat": 4,
 "nbformat_minor": 2
}
