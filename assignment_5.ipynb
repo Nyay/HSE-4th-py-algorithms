{
  "nbformat": 4,
  "nbformat_minor": 0,
  "metadata": {
    "colab": {
      "name": "assignment_5.ipynb",
      "version": "0.3.2",
      "provenance": [],
      "collapsed_sections": [],
      "toc_visible": true
    },
    "kernelspec": {
      "name": "python3",
      "display_name": "Python 3"
    },
    "accelerator": "GPU"
  },
  "cells": [
    {
      "metadata": {
        "id": "wD3bp_INd9m9",
        "colab_type": "text"
      },
      "cell_type": "markdown",
      "source": [
        "# Assignment 5\n",
        "\n",
        "Explore embeddings and CNN\n",
        "\n",
        "Using tweeter dataset ( https://www.kaggle.com/utathya/sentiment-analysis-of-imdb-reviews/data) and already existing splitting on train/test sets, develop a model for sentiment analysis.  \n",
        "Your quality metric is crossentropy (`sklearn.metrics.log_loss`, `torch.nn.CrossEntropy`)  \n",
        "\n",
        "Your model should be based on CNN and written in pytorch `torch.nn.Conv1d`.\n",
        "\n",
        "Explore 3 ways, which of them has better perfomance on test set?:\n",
        "1. Using pretrained word embeddings with frozen weights. `torch.nn.Embedding.from_pretrained(embed_matrix, frozen=True)`.\n",
        "You can download any pretrained embeddings you like.\n",
        "2. Train embeddings yourself, initializing from pretrained weights. `torch.nn.Embedding.from_pretrained(embed_matrix, frozen=False)`\n",
        "3. Train embeddings yourself with random initialization `torch.nn.init.uniform_(nn.Embeddings.weights)`\n",
        "\n",
        "Experiment with model arhitecture (as bonus):\n",
        "1. activation functions RELU, ELU, etc `torch.nn.functional.relu, torch.nn.functional.elu`  \n",
        "1. Stack layers\n",
        "1. max or average pooling (`torch.nn.functional.max_pool1d, torch.nn.functional.avg_pool1d`)\n",
        "1. Dropout\n",
        "\n",
        "\n",
        "Other requirements:\n",
        "1. Your training routine should use any learning scheduler (torch.nn.optim.lr_scheduler).  \n",
        "Plot current learning rate against number of epochs, e.g. `tt.optim.Adam.param_groups[0]['lr']`.  \n",
        "\n",
        "1. Your training routine should use early stopping on validation dataset\n",
        "Use hold out validation scheme in your experiments.\n",
        "\n",
        "1. You should use torchtext for parsing \n",
        "\n",
        "**Note**:\n",
        "This assignment has no baseline. Instead, **validation curves** for explored architectures are expected.  \n",
        "Validation curve is plot of model test score against model hyperparameter value.  \n",
        "example (https://scikit-learn.org/stable/auto_examples/model_selection/plot_validation_curve.html) . \n",
        "Though, using `sklearn.model_selection.validation_curve` is not necessary.  \n",
        "\n",
        "\n",
        "\n",
        "\n"
      ]
    },
    {
      "metadata": {
        "id": "YRKBfGwTd_Fp",
        "colab_type": "code",
        "colab": {}
      },
      "cell_type": "code",
      "source": [
        "import pandas as pd\n",
        "import numpy as np\n",
        "from sklearn.externals import joblib\n",
        "import gensim\n",
        "\n",
        "from sklearn import metrics\n",
        "\n",
        "from nltk.tokenize import TweetTokenizer\n",
        "from nltk.stem import SnowballStemmer\n",
        "from string import punctuation\n",
        "\n",
        "import torch as tt\n",
        "import torch.nn as nn\n",
        "import torch.nn.functional as F\n",
        "import torch.optim as optim\n",
        "\n",
        "import matplotlib.pyplot as plt\n",
        "%matplotlib inline\n",
        "\n",
        "from torchtext.data import Field, LabelField, RawField, BucketIterator, TabularDataset\n",
        "\n",
        "import warnings\n",
        "warnings.filterwarnings('ignore')\n",
        "\n",
        "SEED = 42\n",
        "np.random.seed(SEED)\n",
        "\n",
        "punctuation += '«»—…“”№–'"
      ],
      "execution_count": 0,
      "outputs": []
    },
    {
      "metadata": {
        "id": "km2-59J8LY-G",
        "colab_type": "text"
      },
      "cell_type": "markdown",
      "source": [
        "Загрузим \"stop_words\" для доступа к расширенному списку стоп-слов."
      ]
    },
    {
      "metadata": {
        "id": "aaUXWFDo4ViX",
        "colab_type": "code",
        "colab": {
          "base_uri": "https://localhost:8080/",
          "height": 173
        },
        "outputId": "761598a7-2fca-4ec5-9f4f-b87f79cfd788"
      },
      "cell_type": "code",
      "source": [
        "!pip install stop-words\n",
        "\n",
        "from stop_words import get_stop_words\n",
        "\n",
        "stop_words_list = get_stop_words('english')"
      ],
      "execution_count": 3,
      "outputs": [
        {
          "output_type": "stream",
          "text": [
            "Collecting stop-words\n",
            "  Downloading https://files.pythonhosted.org/packages/1c/cb/d58290804b7a4c5daa42abbbe2a93c477ae53e45541b1825e86f0dfaaf63/stop-words-2018.7.23.tar.gz\n",
            "Building wheels for collected packages: stop-words\n",
            "  Building wheel for stop-words (setup.py) ... \u001b[?25ldone\n",
            "\u001b[?25h  Stored in directory: /root/.cache/pip/wheels/75/37/6a/2b295e03bd07290f0da95c3adb9a74ba95fbc333aa8b0c7c78\n",
            "Successfully built stop-words\n",
            "Installing collected packages: stop-words\n",
            "Successfully installed stop-words-2018.7.23\n"
          ],
          "name": "stdout"
        }
      ]
    },
    {
      "metadata": {
        "id": "Ndy8kqVtLzUD",
        "colab_type": "text"
      },
      "cell_type": "markdown",
      "source": [
        ""
      ]
    },
    {
      "metadata": {
        "id": "ZM-WbS9OkXPE",
        "colab_type": "code",
        "colab": {
          "base_uri": "https://localhost:8080/",
          "height": 204
        },
        "outputId": "61be18b0-3c0c-4e18-9941-26f43f3630a2"
      },
      "cell_type": "code",
      "source": [
        "df = pd.read_csv('imdb_master.csv',  encoding='ISO-8859-1')\n",
        "df.head()"
      ],
      "execution_count": 5,
      "outputs": [
        {
          "output_type": "execute_result",
          "data": {
            "text/html": [
              "<div>\n",
              "<style scoped>\n",
              "    .dataframe tbody tr th:only-of-type {\n",
              "        vertical-align: middle;\n",
              "    }\n",
              "\n",
              "    .dataframe tbody tr th {\n",
              "        vertical-align: top;\n",
              "    }\n",
              "\n",
              "    .dataframe thead th {\n",
              "        text-align: right;\n",
              "    }\n",
              "</style>\n",
              "<table border=\"1\" class=\"dataframe\">\n",
              "  <thead>\n",
              "    <tr style=\"text-align: right;\">\n",
              "      <th></th>\n",
              "      <th>Unnamed: 0</th>\n",
              "      <th>type</th>\n",
              "      <th>review</th>\n",
              "      <th>label</th>\n",
              "      <th>file</th>\n",
              "    </tr>\n",
              "  </thead>\n",
              "  <tbody>\n",
              "    <tr>\n",
              "      <th>0</th>\n",
              "      <td>0</td>\n",
              "      <td>test</td>\n",
              "      <td>Once again Mr. Costner has dragged out a movie...</td>\n",
              "      <td>neg</td>\n",
              "      <td>0_2.txt</td>\n",
              "    </tr>\n",
              "    <tr>\n",
              "      <th>1</th>\n",
              "      <td>1</td>\n",
              "      <td>test</td>\n",
              "      <td>This is an example of why the majority of acti...</td>\n",
              "      <td>neg</td>\n",
              "      <td>10000_4.txt</td>\n",
              "    </tr>\n",
              "    <tr>\n",
              "      <th>2</th>\n",
              "      <td>2</td>\n",
              "      <td>test</td>\n",
              "      <td>First of all I hate those moronic rappers, who...</td>\n",
              "      <td>neg</td>\n",
              "      <td>10001_1.txt</td>\n",
              "    </tr>\n",
              "    <tr>\n",
              "      <th>3</th>\n",
              "      <td>3</td>\n",
              "      <td>test</td>\n",
              "      <td>Not even the Beatles could write songs everyon...</td>\n",
              "      <td>neg</td>\n",
              "      <td>10002_3.txt</td>\n",
              "    </tr>\n",
              "    <tr>\n",
              "      <th>4</th>\n",
              "      <td>4</td>\n",
              "      <td>test</td>\n",
              "      <td>Brass pictures (movies is not a fitting word f...</td>\n",
              "      <td>neg</td>\n",
              "      <td>10003_3.txt</td>\n",
              "    </tr>\n",
              "  </tbody>\n",
              "</table>\n",
              "</div>"
            ],
            "text/plain": [
              "   Unnamed: 0  type                                             review label  \\\n",
              "0           0  test  Once again Mr. Costner has dragged out a movie...   neg   \n",
              "1           1  test  This is an example of why the majority of acti...   neg   \n",
              "2           2  test  First of all I hate those moronic rappers, who...   neg   \n",
              "3           3  test  Not even the Beatles could write songs everyon...   neg   \n",
              "4           4  test  Brass pictures (movies is not a fitting word f...   neg   \n",
              "\n",
              "          file  \n",
              "0      0_2.txt  \n",
              "1  10000_4.txt  \n",
              "2  10001_1.txt  \n",
              "3  10002_3.txt  \n",
              "4  10003_3.txt  "
            ]
          },
          "metadata": {
            "tags": []
          },
          "execution_count": 5
        }
      ]
    },
    {
      "metadata": {
        "id": "z3cEaeukk5Ew",
        "colab_type": "code",
        "colab": {}
      },
      "cell_type": "code",
      "source": [
        "train_df = df[df.type == 'train']\n",
        "test_df = df[df.type == 'test']\n",
        "\n",
        "train_df = train_df[train_df.label != 'unsup']\n",
        "\n",
        "pd.DataFrame.to_csv(train_df, 'imdb_train.csv', index=False)\n",
        "pd.DataFrame.to_csv(test_df, 'imdb_test.csv', index=False)"
      ],
      "execution_count": 0,
      "outputs": []
    },
    {
      "metadata": {
        "id": "I0akvFx9iZyU",
        "colab_type": "code",
        "colab": {}
      },
      "cell_type": "code",
      "source": [
        "nltk_tokenizer = TweetTokenizer()\n",
        "nltk_stemmer = SnowballStemmer('english')\n",
        "\n",
        "def tokenizer(text):\n",
        "  \n",
        "    tokens = nltk_tokenizer.tokenize(nltk_stemmer.stem(text))\n",
        "    result = [word.strip(punctuation) for word in tokens]\n",
        "    \n",
        "    return [word for word in result if word.strip(punctuation) != '']"
      ],
      "execution_count": 0,
      "outputs": []
    },
    {
      "metadata": {
        "id": "QYp0npYw7vUr",
        "colab_type": "code",
        "colab": {}
      },
      "cell_type": "code",
      "source": [
        "classes = {'neg' : 0,\n",
        "           'pos' : 1\n",
        "          }\n",
        "\n",
        "TEXT = Field(include_lengths=True,\n",
        "             batch_first=True, \n",
        "             tokenize=tokenizer,\n",
        "             eos_token='<eos>',\n",
        "             lower=True,\n",
        "             stop_words=stop_words_list)\n",
        "\n",
        "\n",
        "LABEL = LabelField(dtype=tt.int64,\n",
        "                   use_vocab=True,\n",
        "                   preprocessing=lambda x: classes[x])\n",
        "\n",
        "fields_list = [(None, None),\n",
        "               (None, None),\n",
        "               ('review', TEXT),\n",
        "               ('label', LABEL),\n",
        "               (None, None)]\n",
        "                               \n",
        "train = TabularDataset('imdb_train.csv',\n",
        "                       format='csv',\n",
        "                       fields=fields_list,\n",
        "                       skip_header=True)\n",
        "\n",
        "test = TabularDataset('imdb_test.csv',\n",
        "                      format='csv',\n",
        "                      fields=fields_list,\n",
        "                      skip_header=True)"
      ],
      "execution_count": 0,
      "outputs": []
    },
    {
      "metadata": {
        "id": "RZCk1tDWAQFx",
        "colab_type": "code",
        "colab": {
          "base_uri": "https://localhost:8080/",
          "height": 51
        },
        "outputId": "5775fea6-4f1a-4331-aa93-9ddbb18f208e"
      },
      "cell_type": "code",
      "source": [
        "TEXT.build_vocab(train, vectors=\"glove.6B.100d\")"
      ],
      "execution_count": 9,
      "outputs": [
        {
          "output_type": "stream",
          "text": [
            ".vector_cache/glove.6B.zip: 862MB [02:32, 5.66MB/s]                           \n",
            "100%|█████████▉| 398275/400000 [00:20<00:00, 19088.53it/s]"
          ],
          "name": "stderr"
        }
      ]
    },
    {
      "metadata": {
        "id": "2k18rFEmWTw_",
        "colab_type": "code",
        "colab": {}
      },
      "cell_type": "code",
      "source": [
        "embed_matrix = TEXT.vocab.vectors"
      ],
      "execution_count": 0,
      "outputs": []
    },
    {
      "metadata": {
        "id": "P_hGsQk9Q2tk",
        "colab_type": "code",
        "colab": {}
      },
      "cell_type": "code",
      "source": [
        "LABEL.build_vocab(train)"
      ],
      "execution_count": 0,
      "outputs": []
    },
    {
      "metadata": {
        "id": "shBMU-W1Q6Pr",
        "colab_type": "code",
        "colab": {}
      },
      "cell_type": "code",
      "source": [
        "train, valid = train.split(0.7, stratified=True)"
      ],
      "execution_count": 0,
      "outputs": []
    },
    {
      "metadata": {
        "id": "WR8-SjuCMQuN",
        "colab_type": "text"
      },
      "cell_type": "markdown",
      "source": [
        "Пострим нашу модель. Я сразу создам атрибут, который будет показывать какой embedding мы используем в данный момент, а также постараемся поработать с dropout"
      ]
    },
    {
      "metadata": {
        "id": "nfso6sHkSsK8",
        "colab_type": "code",
        "colab": {}
      },
      "cell_type": "code",
      "source": [
        "class CNNModel(nn.Module):\n",
        "  \n",
        "  \n",
        "  def __init__(self, vocab_size, embed_size, embed_matrix, hidden_size, kernels, mode, n_epochs=5):\n",
        "    \n",
        "    super(CNNModel, self).__init__()\n",
        "    \n",
        "    if mode == 'pretrained':\n",
        "      self.embedding = nn.Embedding.from_pretrained(embed_matrix,\n",
        "                                                    freeze=True)\n",
        "    elif mode == 'weights':\n",
        "      self.embedding = nn.Embedding.from_pretrained(embed_matrix,\n",
        "                                                    freeze=False)\n",
        "    elif mode == 'random':\n",
        "      self.embedding = nn.Embedding.from_pretrained(nn.init.uniform_(tt.ones((vocab_size,100))),\n",
        "                                                    freeze=False)\n",
        "    self.n_epochs = n_epochs\n",
        "    self.convs = nn.ModuleList([nn.Conv1d(embed_size, hidden_size, k, padding=5) for k in kernels])\n",
        "    self.fc = nn.Linear(hidden_size * len(kernels), 3)\n",
        "  \n",
        "  \n",
        "  def forward(self, x):\n",
        "    \n",
        "    x = self.embedding(x)\n",
        "    x = x.transpose(1,2)\n",
        "    \n",
        "    concatenated = []\n",
        "    for conv in self.convs:\n",
        "      z = conv(x)\n",
        "      z = F.avg_pool1d(z, kernel_size=z.size(2))\n",
        "      z = z.squeeze(2)\n",
        "      concatenated.append(z)\n",
        "      \n",
        "    x = tt.cat(concatenated, 1)\n",
        "    x = self.fc(x)\n",
        "  \n",
        "    return x\n",
        "  \n",
        "  \n",
        "  def train(self, train_iterator, valid_iterator, optimizer, scheduler, criterion):\n",
        "    \n",
        "    history = []\n",
        "    all_train_losses = []\n",
        "    all_valid_losses = []\n",
        "    min_loss = np.inf\n",
        "    no_improvement = 0\n",
        "        \n",
        "    for epoch in range(self.n_epochs):\n",
        "            \n",
        "      train_losses = []\n",
        "      valid_losses = []\n",
        "      \n",
        "      for batch in train_iterator:\n",
        "                        \n",
        "        optimizer.zero_grad()\n",
        "        \n",
        "        train_pred = self.forward(batch.review[0])\n",
        "        train_loss_crit = criterion(train_pred, batch.label)\n",
        "        train_losses.append(train_loss_crit.item())\n",
        "        \n",
        "        train_loss_crit.backward()\n",
        "        optimizer.step()\n",
        "        \n",
        "      mean_train_loss = np.mean(train_losses)\n",
        "      all_train_losses.append(mean_train_loss)\n",
        "        \n",
        "      with tt.no_grad():\n",
        "        \n",
        "        for valid_batch in valid_iterator:\n",
        "          \n",
        "          \n",
        "          valid_pred = self.forward(valid_batch.review[0])\n",
        "          valid_loss_crit = criterion(valid_pred, valid_batch.label)\n",
        "          valid_losses.append(valid_loss_crit.item())\n",
        "          \n",
        "        mean_valid_loss = np.mean(valid_losses)\n",
        "        all_valid_losses.append(mean_valid_loss)\n",
        "        \n",
        "      if mean_valid_loss < min_loss:\n",
        "        min_loss = mean_valid_loss\n",
        "        no_improvement = 0\n",
        "        \n",
        "      elif no_improvement < scheduler.patience:\n",
        "        no_improvement += 1\n",
        "        \n",
        "      else:\n",
        "        print('Training stoped on (%dth epoch)' % (epoch + 1))\n",
        "        break\n",
        "      \n",
        "      history.append(optimizer.param_groups[0]['lr'])\n",
        "      scheduler.step(mean_valid_loss)\n",
        "                \n",
        "      print('Epoch – %s | Train loss – %s | Validation loss – %s\\n' % (str(epoch + 1),\n",
        "                                                                     float(np.mean(train_losses)),\n",
        "                                                                     float(np.mean(valid_losses))))\n",
        "    \n",
        "    return history, all_train_losses, all_valid_losses\n",
        "    \n",
        "  \n",
        "  def evaluate(self, test_iterator, criterion):\n",
        "    \n",
        "    epoch_loss = []\n",
        "    \n",
        "    with tt.no_grad():\n",
        "      \n",
        "      for batch in test_iterator:\n",
        "        \n",
        "        test_pred = self.forward(batch.review[0])\n",
        "        epoch_loss.append(criterion(test_pred, batch.label))\n",
        "                    \n",
        "    return np.mean(epoch_loss)"
      ],
      "execution_count": 0,
      "outputs": []
    },
    {
      "metadata": {
        "id": "xH2Xs-3A5AJD",
        "colab_type": "code",
        "colab": {}
      },
      "cell_type": "code",
      "source": [
        "tt.cuda.empty_cache()\n",
        "\n",
        "batch_size = 32\n",
        "\n",
        "train_iterator, valid_iterator, test_iterator = BucketIterator.splits(\n",
        "    (train, valid, test),\n",
        "    batch_sizes=(batch_size, batch_size, batch_size),\n",
        "    shuffle=True,\n",
        "    sort_key=lambda x: len(x.review)\n",
        ")"
      ],
      "execution_count": 0,
      "outputs": []
    },
    {
      "metadata": {
        "id": "rtJ6mKRONRC6",
        "colab_type": "text"
      },
      "cell_type": "markdown",
      "source": [
        "Напишем функции для построения графиков и в конце каждого обучения будем визуализировать результат"
      ]
    },
    {
      "metadata": {
        "id": "cKr-WZ3G_FBy",
        "colab_type": "code",
        "colab": {
          "base_uri": "https://localhost:8080/",
          "height": 2563
        },
        "outputId": "5f16d71b-dbf1-4a66-dc1b-760f0c3fe1af"
      },
      "cell_type": "code",
      "source": [
        "train_results = []\n",
        "evaluate_results = []\n",
        "\n",
        "def plot_learning_rate(model_history):\n",
        "  plt.plot(range(len(model_history)), model_history)\n",
        "  plt.xlabel('Number of epochs')\n",
        "  plt.ylabel('Learning rate')\n",
        "  plt.title('Dependence of Learning rate on the number of epochs')\n",
        "  plt.show()\n",
        "\n",
        "def plot_model_losses(train_losses, val_losses):\n",
        "  plt.plot(range(len(train_losses)), train_losses, label='Train loss')\n",
        "  plt.plot(range(len(val_losses)), val_losses, label='Validation loss')\n",
        "  plt.xlabel('Number of epoch')\n",
        "  plt.ylabel('Loss value')\n",
        "  plt.title('Dependence of Train and Validation loss on the number of epochs')\n",
        "  plt.legend()\n",
        "  plt.show()\n",
        "  \n",
        "for mode in ['random', 'pretrained', 'weights']:\n",
        "  \n",
        "  tt.cuda.empty_cache()\n",
        "  \n",
        "  model = CNNModel(len(TEXT.vocab.itos),\n",
        "                   embed_size=100,\n",
        "                   embed_matrix=embed_matrix,\n",
        "                   hidden_size=128,\n",
        "                   kernels=[2,3,4,5],\n",
        "                   mode=mode,\n",
        "                   n_epochs=100)\n",
        "  \n",
        "  optimizer = optim.Adam(model.parameters())\n",
        "  \n",
        "  scheduler = optim.lr_scheduler.ReduceLROnPlateau(optimizer,\n",
        "                                                   patience=3,\n",
        "                                                   verbose=True, \n",
        "                                                   cooldown=5)\n",
        "  criterion = nn.CrossEntropyLoss()\n",
        "  \n",
        "  train_result = model.train(train_iterator, valid_iterator, optimizer, scheduler, criterion)\n",
        "  train_results.append(train_result)\n",
        "  \n",
        "  evaluate_result = model.evaluate(test_iterator, criterion)\n",
        "  evaluate_results.append(evaluate_result)\n",
        "\n",
        "  print(' \\n\\n Model mode – %s \\n\\n Test Loss – %s \\n\\n Plots:' % (str(mode),\n",
        "                                                                   str(evaluate_result)))\n",
        "  plot_learning_rate(train_result[0])\n",
        "  plot_model_losses(train_result[1], train_result[2])"
      ],
      "execution_count": 16,
      "outputs": [
        {
          "output_type": "stream",
          "text": [
            "Epoch – 1 | Train loss – 0.698841559930519 | Validation loss – 0.48634753379415957\n",
            "\n",
            "Epoch – 2 | Train loss – 0.40198470446429263 | Validation loss – 0.4984747839576386\n",
            "\n",
            "Epoch – 3 | Train loss – 0.23815789822849975 | Validation loss – 0.5856768020369271\n",
            "\n",
            "Epoch – 4 | Train loss – 0.18201584971324292 | Validation loss – 0.6199713258033103\n",
            "\n",
            "Training stoped on (5th epoch)\n",
            " \n",
            "\n",
            " Model mode – random \n",
            "\n",
            " Test Loss – 0.84470457 \n",
            "\n",
            " Plots:\n"
          ],
          "name": "stdout"
        },
        {
          "output_type": "display_data",
          "data": {
            "image/png": "[encoded data removed]",
            "text/plain": [
              "<Figure size 432x288 with 1 Axes>"
            ]
          },
          "metadata": {
            "tags": []
          }
        },
        {
          "output_type": "display_data",
          "data": {
            "image/png": "[encoded data removed]",
            "text/plain": [
              "<Figure size 432x288 with 1 Axes>"
            ]
          },
          "metadata": {
            "tags": []
          }
        },
        {
          "output_type": "stream",
          "text": [
            "Epoch – 1 | Train loss – 0.5507148809908077 | Validation loss – 0.7159183264412778\n",
            "\n",
            "Epoch – 2 | Train loss – 0.499104453778572 | Validation loss – 0.7263873551754241\n",
            "\n",
            "Epoch – 3 | Train loss – 0.48575600545846565 | Validation loss – 0.6765163576983391\n",
            "\n",
            "Epoch – 4 | Train loss – 0.4818032295655943 | Validation loss – 0.7601090840202697\n",
            "\n",
            "Epoch – 5 | Train loss – 0.4788055210978719 | Validation loss – 0.822935859763876\n",
            "\n",
            "Epoch – 6 | Train loss – 0.47744513843787434 | Validation loss – 0.7030154477408592\n",
            "\n",
            "Training stoped on (7th epoch)\n",
            " \n",
            "\n",
            " Model mode – pretrained \n",
            "\n",
            " Test Loss – 0.66079223 \n",
            "\n",
            " Plots:\n"
          ],
          "name": "stdout"
        },
        {
          "output_type": "display_data",
          "data": {
            "image/png": "[encoded data removed]",
            "text/plain": [
              "<Figure size 432x288 with 1 Axes>"
            ]
          },
          "metadata": {
            "tags": []
          }
        },
        {
          "output_type": "display_data",
          "data": {
            "image/png": "[encoded data removed]",
            "text/plain": [
              "<Figure size 432x288 with 1 Axes>"
            ]
          },
          "metadata": {
            "tags": []
          }
        },
        {
          "output_type": "stream",
          "text": [
            "Epoch – 1 | Train loss – 0.45865138828536495 | Validation loss – 0.5736326217334321\n",
            "\n",
            "Epoch – 2 | Train loss – 0.23309363944411712 | Validation loss – 0.7248286818570279\n",
            "\n",
            "Epoch – 3 | Train loss – 0.1301942693454365 | Validation loss – 0.8459956784514671\n",
            "\n",
            "Epoch – 4 | Train loss – 0.07378990454616287 | Validation loss – 1.169898011202508\n",
            "\n",
            "Training stoped on (5th epoch)\n",
            " \n",
            "\n",
            " Model mode – weights \n",
            "\n",
            " Test Loss – 1.9117457 \n",
            "\n",
            " Plots:\n"
          ],
          "name": "stdout"
        },
        {
          "output_type": "display_data",
          "data": {
            "image/png": "[encoded data removed]",
            "text/plain": [
              "<Figure size 432x288 with 1 Axes>"
            ]
          },
          "metadata": {
            "tags": []
          }
        },
        {
          "output_type": "display_data",
          "data": {
            "image/png": "[encoded data removed]",
            "text/plain": [
              "<Figure size 432x288 with 1 Axes>"
            ]
          },
          "metadata": {
            "tags": []
          }
        }
      ]
    },
    {
      "metadata": {
        "id": "4TeChz4sNkUx",
        "colab_type": "text"
      },
      "cell_type": "markdown",
      "source": [
        "На удивление leatning rate оказался статиным, что напрягает, но судя по всему это происходит из-за раннего обучения на малом количестве эпох.\n",
        "\n",
        "Теперь давайте выведем финальный результат для всех трех моделей и сделаем выводы."
      ]
    },
    {
      "metadata": {
        "id": "3of5d9pISogP",
        "colab_type": "code",
        "colab": {}
      },
      "cell_type": "code",
      "source": [
        "def all_embeddings_plot(test_results):\n",
        "  plt.figure(figsize=(10,7))\n",
        "  plt.plot(['Trained embeddings yourself with random initialization',\n",
        "            'Pretrained word embeddings with frozen weights',\n",
        "            'Trained embeddings, initializing from pretrained weights'],\n",
        "           [test_results[0],\n",
        "            test_results[1],\n",
        "            test_results[2]])\n",
        "  plt.xlabel('Types of embeddings')\n",
        "  plt.ylabel('Crossentropy Loss')\n",
        "  plt.title('Validation curve')"
      ],
      "execution_count": 0,
      "outputs": []
    },
    {
      "metadata": {
        "id": "rGmI9bGkEf1F",
        "colab_type": "code",
        "colab": {
          "base_uri": "https://localhost:8080/",
          "height": 457
        },
        "outputId": "bc0c66cb-608c-47c8-e7c8-f43ec10fd2c3"
      },
      "cell_type": "code",
      "source": [
        "all_embeddings_plot(evaluate_results)"
      ],
      "execution_count": 26,
      "outputs": [
        {
          "output_type": "display_data",
          "data": {
            "image/png": "[encoded data removed]",
            "text/plain": [
              "<Figure size 720x504 with 1 Axes>"
            ]
          },
          "metadata": {
            "tags": []
          }
        }
      ]
    },
    {
      "metadata": {
        "id": "laN7fgIWOwer",
        "colab_type": "text"
      },
      "cell_type": "markdown",
      "source": [
        "Как можно заметить, что лучше всего себя показали уже предобученные вектора, поэтому вместо того, чтобы обучать embaddings самим, лучше уже обученный embadding с фиксированными весами."
      ]
    }
  ]
}