{
  "cells": [
    {
      "metadata": {
        "_uuid": "8f2839f25d086af736a60e9eeb907d3b93b6e0e5",
        "_cell_guid": "b1076dfc-b9ad-4769-8c92-a6c4dae69d19",
        "trusted": true
      },
      "cell_type": "code",
      "source": "# This Python 3 environment comes with many helpful analytics libraries installed\n# It is defined by the kaggle/python docker image: https://github.com/kaggle/docker-python\n# For example, here's several helpful packages to load in \n\nimport numpy as np # linear algebra\nimport pandas as pd # data processing, CSV file I/O (e.g. pd.read_csv)\n\n# Input data files are available in the \"../input/\" directory.\n# For example, running this (by clicking run or pressing Shift+Enter) will list the files in the input directory\n\nimport os\nprint(os.listdir(\"../input\"))\n\n# Any results you write to the current directory are saved as output.",
      "execution_count": 24,
      "outputs": [
        {
          "output_type": "stream",
          "text": "['albums.csv', 'bands.csv', 'reviews.csv']\n",
          "name": "stdout"
        }
      ]
    },
    {
      "metadata": {
        "_cell_guid": "79c7e3d0-c299-4dcb-8224-4455121ee9b0",
        "_uuid": "d629ff2d2480ee46fbb7e2d37f6b5fab8052498a",
        "trusted": true
      },
      "cell_type": "code",
      "source": "import string\nimport random\n\nimport numpy as np\nimport pandas as pd\n\nimport torch as tt\nimport torch.nn as nn\n\nfrom torch.autograd import Variable",
      "execution_count": 53,
      "outputs": []
    },
    {
      "metadata": {
        "trusted": true,
        "_uuid": "ccf46f1f8c30f1d5b19d1471d4e68392797e075d"
      },
      "cell_type": "code",
      "source": "data = pd.read_csv('../input/bands.csv')",
      "execution_count": 54,
      "outputs": []
    },
    {
      "metadata": {
        "trusted": true,
        "_uuid": "f0f0ee59804c5a8cf042b2c63f7d491b99bf64d3",
        "_kg_hide-input": false,
        "_kg_hide-output": false
      },
      "cell_type": "code",
      "source": "data",
      "execution_count": 41,
      "outputs": [
        {
          "output_type": "execute_result",
          "execution_count": 41,
          "data": {
            "text/plain": "          id                        ...                                                                     active\n0          1                        ...                                                                     2009-?\n1          2                        ...                                                                  1993-1996\n2          3                        ...                                                               2009-present\n3          4                        ...                                                               2004-present\n4          5                        ...                                                                  1998-2002\n5          6                        ...                          2006-?| ?-2007 (as Splatter the Cadaver)| 2008...\n6          7                        ...                                                               1994-present\n7          8                        ...                                                               2003-present\n8          9                        ...                                                                        NaN\n9         10                        ...                                                               2012-present\n10        11                        ...                                                                     1998-?\n11        12                        ...                                                                        NaN\n12        13                        ...                                                               2008-present\n13        14                        ...                                                                  2000-2008\n14        15                        ...                                                                     2009-?\n15        16                        ...                                                               2010-present\n16        17                        ...                                                               2009-present\n17        18                        ...                                                               1997-present\n18        19                        ...                                                    2009-2012| 2013-present\n19        20                        ...                                                               2013-present\n20        21                        ...                                      1999-2013| 2013-present (as Sic Zone)\n21        22                        ...                                        2002-2008 (as Void Essence)| 2008-?\n22        23                        ...                                                                     1999-?\n23        24                        ...                                                                        NaN\n24        25                        ...                                                                  2006-2008\n25        26                        ...                                        2003-2004| 2004 (as Ritus Tenebrum)\n26        27                        ...                                                               1999-present\n27        28                        ...                                          1989 (as Tormentor)| 1989-present\n28        29                        ...                                                                  1989-1994\n29        30                        ...                                                               2007-present\n...      ...                        ...                                                                        ...\n37693  37694                        ...                                                               1993-present\n37694  37695                        ...                                                    1977-1988| 1994-present\n37695  37696                        ...                                                               1984-present\n37696  37697                        ...                                                                  2005-2013\n37697  37698                        ...                                       1992-1996 (as Awesome)| 2009-present\n37698  37699                        ...                                1987-1994| 1994-1996 (as Portal)| 2006-2015\n37699  37700                        ...                                         2003-2009| 2012-2013| 2016-present\n37700  37701                        ...                                                    1997-2010| 2011-present\n37701  37702                        ...                                   2006-2010 (as Godforsaken)| 2010-present\n37702  37703                        ...                                                                  2003-2012\n37703  37704                        ...                                                                     1993-?\n37704  37705                        ...                                                               2004-present\n37705  37706                        ...                                                                  1986-1997\n37706  37707                        ...                                                               2005-present\n37707  37708                        ...                          1991-1992 (as Resurrection)| 1992-1997| 2001-p...\n37708  37709                        ...                          1989-1991 (as Immortal Hate)| 1991-2005| 2014-...\n37709  37710                        ...                                                               1997-present\n37710  37711                        ...                                                                        NaN\n37711  37712                        ...                                                               2004-present\n37712  37713                        ...                                             2002-2003 (as 2540)| 2003-2011\n37713  37714                        ...                          1993 (as Suffering Grief)| 1993 (as La Reine N...\n37714  37715                        ...                          1987-? (as Coven)| ?-? (as Midnight Coven)| ?-...\n37715  37716                        ...                                                               2009-present\n37716  37717                        ...                                                               2001-present\n37717  37718                        ...                                          1985 (as Raw Noise)| 1985-present\n37718  37719                        ...                                                               1988-present\n37719  37720                        ...                                                               1997-present\n37720  37721                        ...                                                               2008-present\n37721  37722                        ...                                                    1990-1997| 2002-present\n37722  37723                        ...                                         2004-2014| 2014-2016| 2016-present\n\n[37723 rows x 8 columns]",
            "text/html": "<div>\n<style scoped>\n    .dataframe tbody tr th:only-of-type {\n        vertical-align: middle;\n    }\n\n    .dataframe tbody tr th {\n        vertical-align: top;\n    }\n\n    .dataframe thead th {\n        text-align: right;\n    }\n</style>\n<table border=\"1\" class=\"dataframe\">\n  <thead>\n    <tr style=\"text-align: right;\">\n      <th></th>\n      <th>id</th>\n      <th>name</th>\n      <th>country</th>\n      <th>status</th>\n      <th>formed_in</th>\n      <th>genre</th>\n      <th>theme</th>\n      <th>active</th>\n    </tr>\n  </thead>\n  <tbody>\n    <tr>\n      <th>0</th>\n      <td>1</td>\n      <td>('M') Inc.</td>\n      <td>United States</td>\n      <td>Unknown</td>\n      <td>2009.0</td>\n      <td>Death Metal</td>\n      <td>NaN</td>\n      <td>2009-?</td>\n    </tr>\n    <tr>\n      <th>1</th>\n      <td>2</td>\n      <td>(sic)</td>\n      <td>United States</td>\n      <td>Split-up</td>\n      <td>1993.0</td>\n      <td>Death Metal</td>\n      <td>NaN</td>\n      <td>1993-1996</td>\n    </tr>\n    <tr>\n      <th>2</th>\n      <td>3</td>\n      <td>.F.O.A.D.</td>\n      <td>France</td>\n      <td>Active</td>\n      <td>2009.0</td>\n      <td>Death Metal</td>\n      <td>Life and Death</td>\n      <td>2009-present</td>\n    </tr>\n    <tr>\n      <th>3</th>\n      <td>4</td>\n      <td>100 Suns</td>\n      <td>United States</td>\n      <td>Active</td>\n      <td>2004.0</td>\n      <td>Death Metal</td>\n      <td>NaN</td>\n      <td>2004-present</td>\n    </tr>\n    <tr>\n      <th>4</th>\n      <td>5</td>\n      <td>12 Days of Anarchy</td>\n      <td>United States</td>\n      <td>Split-up</td>\n      <td>1998.0</td>\n      <td>Death Metal</td>\n      <td>Anarchy</td>\n      <td>1998-2002</td>\n    </tr>\n    <tr>\n      <th>5</th>\n      <td>6</td>\n      <td>13th Cadaver</td>\n      <td>United States</td>\n      <td>Changed name</td>\n      <td>2006.0</td>\n      <td>Death Metal</td>\n      <td>Death| Gore| Undead</td>\n      <td>2006-?| ?-2007 (as Splatter the Cadaver)| 2008...</td>\n    </tr>\n    <tr>\n      <th>6</th>\n      <td>7</td>\n      <td>1917</td>\n      <td>Argentina</td>\n      <td>Active</td>\n      <td>1994.0</td>\n      <td>Death Metal</td>\n      <td>Dark Philosophical Poetry| Art| Religion| Psyc...</td>\n      <td>1994-present</td>\n    </tr>\n    <tr>\n      <th>7</th>\n      <td>8</td>\n      <td>5th Column</td>\n      <td>United States</td>\n      <td>Active</td>\n      <td>2003.0</td>\n      <td>Death Metal</td>\n      <td>War| Death| Battles| Rape</td>\n      <td>2003-present</td>\n    </tr>\n    <tr>\n      <th>8</th>\n      <td>9</td>\n      <td>6 Feet Under</td>\n      <td>Germany</td>\n      <td>Split-up</td>\n      <td>NaN</td>\n      <td>Death Metal</td>\n      <td>NaN</td>\n      <td>NaN</td>\n    </tr>\n    <tr>\n      <th>9</th>\n      <td>10</td>\n      <td>602</td>\n      <td>Russia</td>\n      <td>Active</td>\n      <td>2012.0</td>\n      <td>Death Metal</td>\n      <td>Cruelty of regimes| WWII| Death</td>\n      <td>2012-present</td>\n    </tr>\n    <tr>\n      <th>10</th>\n      <td>11</td>\n      <td>7th Delirium</td>\n      <td>Spain</td>\n      <td>Split-up</td>\n      <td>1998.0</td>\n      <td>Death Metal</td>\n      <td>NaN</td>\n      <td>1998-?</td>\n    </tr>\n    <tr>\n      <th>11</th>\n      <td>12</td>\n      <td>7th Gate</td>\n      <td>Austria</td>\n      <td>Split-up</td>\n      <td>NaN</td>\n      <td>Death Metal</td>\n      <td>NaN</td>\n      <td>NaN</td>\n    </tr>\n    <tr>\n      <th>12</th>\n      <td>13</td>\n      <td>9</td>\n      <td>Argentina</td>\n      <td>Active</td>\n      <td>2008.0</td>\n      <td>Death Metal</td>\n      <td>War| Religion| Bloodshed</td>\n      <td>2008-present</td>\n    </tr>\n    <tr>\n      <th>13</th>\n      <td>14</td>\n      <td>9th Plague</td>\n      <td>Sweden</td>\n      <td>Split-up</td>\n      <td>2000.0</td>\n      <td>Death Metal</td>\n      <td>Anti-Christianity</td>\n      <td>2000-2008</td>\n    </tr>\n    <tr>\n      <th>14</th>\n      <td>15</td>\n      <td>A Dark Place</td>\n      <td>Australia</td>\n      <td>Unknown</td>\n      <td>2009.0</td>\n      <td>Death Metal</td>\n      <td>NaN</td>\n      <td>2009-?</td>\n    </tr>\n    <tr>\n      <th>15</th>\n      <td>16</td>\n      <td>A Dying Season</td>\n      <td>Mexico</td>\n      <td>Active</td>\n      <td>2010.0</td>\n      <td>Death Metal</td>\n      <td>NaN</td>\n      <td>2010-present</td>\n    </tr>\n    <tr>\n      <th>16</th>\n      <td>17</td>\n      <td>A Greed Science</td>\n      <td>Australia</td>\n      <td>Active</td>\n      <td>2009.0</td>\n      <td>Death Metal</td>\n      <td>Humanity| Life Experience</td>\n      <td>2009-present</td>\n    </tr>\n    <tr>\n      <th>17</th>\n      <td>18</td>\n      <td>A Life Less Alive</td>\n      <td>United States</td>\n      <td>Active</td>\n      <td>1997.0</td>\n      <td>Death Metal</td>\n      <td>Death| Zombies| Religion| Horror</td>\n      <td>1997-present</td>\n    </tr>\n    <tr>\n      <th>18</th>\n      <td>19</td>\n      <td>A Place for Murder</td>\n      <td>Italy</td>\n      <td>Active</td>\n      <td>2009.0</td>\n      <td>Death Metal</td>\n      <td>Death| Life| Nature| Technology| Human Madness</td>\n      <td>2009-2012| 2013-present</td>\n    </tr>\n    <tr>\n      <th>19</th>\n      <td>20</td>\n      <td>A Tomba Oberta</td>\n      <td>Spain</td>\n      <td>Active</td>\n      <td>2013.0</td>\n      <td>Death Metal</td>\n      <td>NaN</td>\n      <td>2013-present</td>\n    </tr>\n    <tr>\n      <th>20</th>\n      <td>21</td>\n      <td>A-Rise</td>\n      <td>Germany</td>\n      <td>Changed name</td>\n      <td>1999.0</td>\n      <td>Death Metal</td>\n      <td>Death| Destruction</td>\n      <td>1999-2013| 2013-present (as Sic Zone)</td>\n    </tr>\n    <tr>\n      <th>21</th>\n      <td>22</td>\n      <td>A.R.M.A.</td>\n      <td>Italy</td>\n      <td>Unknown</td>\n      <td>2008.0</td>\n      <td>Death Metal</td>\n      <td>NaN</td>\n      <td>2002-2008 (as Void Essence)| 2008-?</td>\n    </tr>\n    <tr>\n      <th>22</th>\n      <td>23</td>\n      <td>AAAAARGH! Bloody 2-Handed Chainaxe Blow</td>\n      <td>France</td>\n      <td>Unknown</td>\n      <td>1999.0</td>\n      <td>Death Metal</td>\n      <td>Esoteric</td>\n      <td>1999-?</td>\n    </tr>\n    <tr>\n      <th>23</th>\n      <td>24</td>\n      <td>Ab-Irato</td>\n      <td>Argentina</td>\n      <td>Active</td>\n      <td>NaN</td>\n      <td>Death Metal</td>\n      <td>Hate| Anti-religion</td>\n      <td>NaN</td>\n    </tr>\n    <tr>\n      <th>24</th>\n      <td>25</td>\n      <td>Abaddon</td>\n      <td>Australia</td>\n      <td>Split-up</td>\n      <td>2006.0</td>\n      <td>Death Metal</td>\n      <td>NaN</td>\n      <td>2006-2008</td>\n    </tr>\n    <tr>\n      <th>25</th>\n      <td>26</td>\n      <td>Abaddon</td>\n      <td>Brazil</td>\n      <td>Split-up</td>\n      <td>2003.0</td>\n      <td>Death Metal</td>\n      <td>Satanism| Anti-Christianity</td>\n      <td>2003-2004| 2004 (as Ritus Tenebrum)</td>\n    </tr>\n    <tr>\n      <th>26</th>\n      <td>27</td>\n      <td>Abaddon</td>\n      <td>Bulgaria</td>\n      <td>Active</td>\n      <td>1999.0</td>\n      <td>Death Metal</td>\n      <td>NaN</td>\n      <td>1999-present</td>\n    </tr>\n    <tr>\n      <th>27</th>\n      <td>28</td>\n      <td>Abaddon</td>\n      <td>Chile</td>\n      <td>Active</td>\n      <td>1989.0</td>\n      <td>Death Metal</td>\n      <td>Paganism</td>\n      <td>1989 (as Tormentor)| 1989-present</td>\n    </tr>\n    <tr>\n      <th>28</th>\n      <td>29</td>\n      <td>Abaddon</td>\n      <td>Czech Republic</td>\n      <td>Split-up</td>\n      <td>1989.0</td>\n      <td>Death Metal</td>\n      <td>NaN</td>\n      <td>1989-1994</td>\n    </tr>\n    <tr>\n      <th>29</th>\n      <td>30</td>\n      <td>Abaddon</td>\n      <td>Czech Republic</td>\n      <td>Active</td>\n      <td>2007.0</td>\n      <td>Death Metal</td>\n      <td>Evil| Armageddon| Fears</td>\n      <td>2007-present</td>\n    </tr>\n    <tr>\n      <th>...</th>\n      <td>...</td>\n      <td>...</td>\n      <td>...</td>\n      <td>...</td>\n      <td>...</td>\n      <td>...</td>\n      <td>...</td>\n      <td>...</td>\n    </tr>\n    <tr>\n      <th>37693</th>\n      <td>37694</td>\n      <td>Obduction</td>\n      <td>Slovenia</td>\n      <td>Active</td>\n      <td>1993.0</td>\n      <td>Melodic Death Metal (early)| Progressive/Heavy...</td>\n      <td>NaN</td>\n      <td>1993-present</td>\n    </tr>\n    <tr>\n      <th>37694</th>\n      <td>37695</td>\n      <td>Satan's Host</td>\n      <td>United States</td>\n      <td>Active</td>\n      <td>1977.0</td>\n      <td>Heavy Metal (early)| Black/Death Metal (mid)| ...</td>\n      <td>Darkness| Satanism| Occultism| Hell</td>\n      <td>1977-1988| 1994-present</td>\n    </tr>\n    <tr>\n      <th>37695</th>\n      <td>37696</td>\n      <td>Sepultura</td>\n      <td>Brazil</td>\n      <td>Active</td>\n      <td>1984.0</td>\n      <td>Death/Thrash Metal (early)| Groove/Thrash Meta...</td>\n      <td>Satanism| Death| Anti-fascism (early); Politic...</td>\n      <td>1984-present</td>\n    </tr>\n    <tr>\n      <th>37696</th>\n      <td>37697</td>\n      <td>Ankhagram</td>\n      <td>Russia</td>\n      <td>On hold</td>\n      <td>2005.0</td>\n      <td>Melodic Doom/Death Metal (early)| Funeral Doom...</td>\n      <td>Darkness| Sorrow| Depression</td>\n      <td>2005-2013</td>\n    </tr>\n    <tr>\n      <th>37697</th>\n      <td>37698</td>\n      <td>AWE.SOME</td>\n      <td>Russia</td>\n      <td>Active</td>\n      <td>1992.0</td>\n      <td>Death/Thrash Metal (early)| Symphonic/Electron...</td>\n      <td>NaN</td>\n      <td>1992-1996 (as Awesome)| 2009-present</td>\n    </tr>\n    <tr>\n      <th>37698</th>\n      <td>37699</td>\n      <td>Cynic</td>\n      <td>United States</td>\n      <td>Disputed</td>\n      <td>1987.0</td>\n      <td>Thrash Metal (early)| Progressive Death Metal/...</td>\n      <td>Personal thoughts| Philosophy| Peace</td>\n      <td>1987-1994| 1994-1996 (as Portal)| 2006-2015</td>\n    </tr>\n    <tr>\n      <th>37699</th>\n      <td>37700</td>\n      <td>Dagon</td>\n      <td>Mexico</td>\n      <td>Active</td>\n      <td>2003.0</td>\n      <td>Black Metal with Doom/Dark Influences (early)|...</td>\n      <td>Anti-Christianity| Lovecraft characters| Horror</td>\n      <td>2003-2009| 2012-2013| 2016-present</td>\n    </tr>\n    <tr>\n      <th>37700</th>\n      <td>37701</td>\n      <td>Exivious</td>\n      <td>Netherlands</td>\n      <td>Active</td>\n      <td>1997.0</td>\n      <td>Progressive Death Metal/Jazz Fusion (early)| P...</td>\n      <td>Instrumental</td>\n      <td>1997-2010| 2011-present</td>\n    </tr>\n    <tr>\n      <th>37701</th>\n      <td>37702</td>\n      <td>Ghouls Come Knockin'</td>\n      <td>Austria</td>\n      <td>Active</td>\n      <td>2010.0</td>\n      <td>Death 'n' Roll/Thrash Metal (early)| Heavy Met...</td>\n      <td>NaN</td>\n      <td>2006-2010 (as Godforsaken)| 2010-present</td>\n    </tr>\n    <tr>\n      <th>37702</th>\n      <td>37703</td>\n      <td>Inter Arbores</td>\n      <td>Russia</td>\n      <td>Split-up</td>\n      <td>2003.0</td>\n      <td>Funeral Doom/Death Metal (early)| Doom Metal/A...</td>\n      <td>Nature| Loneliness</td>\n      <td>2003-2012</td>\n    </tr>\n    <tr>\n      <th>37703</th>\n      <td>37704</td>\n      <td>Kalögena</td>\n      <td>Germany</td>\n      <td>Split-up</td>\n      <td>1993.0</td>\n      <td>Death/Thrash Metal with Gothic influences (ear...</td>\n      <td>Fun| Social| Fantasy| Horror</td>\n      <td>1993-?</td>\n    </tr>\n    <tr>\n      <th>37704</th>\n      <td>37705</td>\n      <td>KOAMA</td>\n      <td>United States</td>\n      <td>Active</td>\n      <td>2004.0</td>\n      <td>Heavy/Thrash Metal with Progressive Influences...</td>\n      <td>Society| Humanity| War| Death Violence</td>\n      <td>2004-present</td>\n    </tr>\n    <tr>\n      <th>37705</th>\n      <td>37706</td>\n      <td>Massacra</td>\n      <td>France</td>\n      <td>Split-up</td>\n      <td>1986.0</td>\n      <td>Death/Thrash Metal (1986-1992)| Heavy/Thrash M...</td>\n      <td>Genocide| Killing| Violence| Destruction</td>\n      <td>1986-1997</td>\n    </tr>\n    <tr>\n      <th>37706</th>\n      <td>37707</td>\n      <td>Oblivion Machine</td>\n      <td>Russia</td>\n      <td>Active</td>\n      <td>2005.0</td>\n      <td>Industrial Groove/Death Metal (early)| Industr...</td>\n      <td>Hate| Suffering| Despair| Death| Extraterrestr...</td>\n      <td>2005-present</td>\n    </tr>\n    <tr>\n      <th>37707</th>\n      <td>37708</td>\n      <td>Orphaned Land</td>\n      <td>Israel</td>\n      <td>Active</td>\n      <td>1992.0</td>\n      <td>Doom/Death/Middle Eastern Folk Metal (early)| ...</td>\n      <td>Abrahamic religions| Unity| Peace</td>\n      <td>1991-1992 (as Resurrection)| 1992-1997| 2001-p...</td>\n    </tr>\n    <tr>\n      <th>37708</th>\n      <td>37709</td>\n      <td>Pyogenesis</td>\n      <td>Germany</td>\n      <td>Active</td>\n      <td>1991.0</td>\n      <td>Death/Doom Metal (early)| Gothic Metal| Altern...</td>\n      <td>Sorrow| Death (early)| Partying| Dating (later)</td>\n      <td>1989-1991 (as Immortal Hate)| 1991-2005| 2014-...</td>\n    </tr>\n    <tr>\n      <th>37709</th>\n      <td>37710</td>\n      <td>Soulfly</td>\n      <td>United States</td>\n      <td>Active</td>\n      <td>1997.0</td>\n      <td>Nu-Metal with tribal influences (early)| Groov...</td>\n      <td>Spirituality| War| Violence| Slavery| Politics</td>\n      <td>1997-present</td>\n    </tr>\n    <tr>\n      <th>37710</th>\n      <td>37711</td>\n      <td>St. Valentine's Day</td>\n      <td>Ukraine</td>\n      <td>Split-up</td>\n      <td>NaN</td>\n      <td>Doom/Death Metal (early)| Doom/Post-Metal/Elec...</td>\n      <td>NaN</td>\n      <td>NaN</td>\n    </tr>\n    <tr>\n      <th>37711</th>\n      <td>37712</td>\n      <td>Terrorage</td>\n      <td>Italy</td>\n      <td>Active</td>\n      <td>2004.0</td>\n      <td>Thrash/Groove Metal (early)| Brutal/Death Meta...</td>\n      <td>NaN</td>\n      <td>2004-present</td>\n    </tr>\n    <tr>\n      <th>37712</th>\n      <td>37713</td>\n      <td>The Showdown</td>\n      <td>United States</td>\n      <td>On hold</td>\n      <td>2003.0</td>\n      <td>Melodic Thrash/Death Metal/Metalcore (early)| ...</td>\n      <td>Christianity| Life Struggles| Greek Mythology</td>\n      <td>2002-2003 (as 2540)| 2003-2011</td>\n    </tr>\n    <tr>\n      <th>37713</th>\n      <td>37714</td>\n      <td>Theatre of Tragedy</td>\n      <td>Norway</td>\n      <td>Split-up</td>\n      <td>1993.0</td>\n      <td>Gothic/Doom/Death Metal (early)| Industrial/El...</td>\n      <td>Beauty| Darkness| Love| Life</td>\n      <td>1993 (as Suffering Grief)| 1993 (as La Reine N...</td>\n    </tr>\n    <tr>\n      <th>37714</th>\n      <td>37715</td>\n      <td>Witchshire</td>\n      <td>Spain</td>\n      <td>Split-up</td>\n      <td>NaN</td>\n      <td>Heavy Metal (early)| Technical Death/Thrash Me...</td>\n      <td>Witchery| Black magic| Edgar Allan Poe| Horror</td>\n      <td>1987-? (as Coven)| ?-? (as Midnight Coven)| ?-...</td>\n    </tr>\n    <tr>\n      <th>37715</th>\n      <td>37716</td>\n      <td>Yazata</td>\n      <td>United States</td>\n      <td>On hold</td>\n      <td>2009.0</td>\n      <td>Doom/Death Metal with Crust influences (early)...</td>\n      <td>Mythology| occultism| nature| New Mexican deserts</td>\n      <td>2009-present</td>\n    </tr>\n    <tr>\n      <th>37716</th>\n      <td>37717</td>\n      <td>Yuggoth</td>\n      <td>Russia</td>\n      <td>Active</td>\n      <td>2001.0</td>\n      <td>Doom/Death Metal (early)| Heavy Metal/Hard Roc...</td>\n      <td>Lovecraft</td>\n      <td>2001-present</td>\n    </tr>\n    <tr>\n      <th>37717</th>\n      <td>37718</td>\n      <td>Extreme Noise Terror</td>\n      <td>United Kingdom</td>\n      <td>Active</td>\n      <td>1985.0</td>\n      <td>Crust/Grindcore (early)| Hardcore Punk/Death M...</td>\n      <td>Animal Rights| Social/Political| Hate| Humanity</td>\n      <td>1985 (as Raw Noise)| 1985-present</td>\n    </tr>\n    <tr>\n      <th>37718</th>\n      <td>37719</td>\n      <td>Gladiator</td>\n      <td>Slovakia</td>\n      <td>Active</td>\n      <td>1988.0</td>\n      <td>Death/Thrash Metal (1988-93)| Grunge/Hard Rock...</td>\n      <td>Sorrow| Nuclear War| Doom</td>\n      <td>1988-present</td>\n    </tr>\n    <tr>\n      <th>37719</th>\n      <td>37720</td>\n      <td>Innersight</td>\n      <td>Hungary</td>\n      <td>Active</td>\n      <td>1997.0</td>\n      <td>Post-Rock (early)| Progressive Death Metal (mi...</td>\n      <td>NaN</td>\n      <td>1997-present</td>\n    </tr>\n    <tr>\n      <th>37720</th>\n      <td>37721</td>\n      <td>Lunarsapian</td>\n      <td>International</td>\n      <td>Active</td>\n      <td>2008.0</td>\n      <td>Black/Death/Doom Metal (early)| Drone/Dark Amb...</td>\n      <td>NaN</td>\n      <td>2008-present</td>\n    </tr>\n    <tr>\n      <th>37721</th>\n      <td>37722</td>\n      <td>Subconscious</td>\n      <td>Germany</td>\n      <td>Active</td>\n      <td>1990.0</td>\n      <td>Progressive Thrash/Death Metal (1992| 2002-pre...</td>\n      <td>NaN</td>\n      <td>1990-1997| 2002-present</td>\n    </tr>\n    <tr>\n      <th>37722</th>\n      <td>37723</td>\n      <td>Frozen Mist</td>\n      <td>United States</td>\n      <td>Active</td>\n      <td>2004.0</td>\n      <td>Gothic Metal (2004-2006)| Melodic Death/Gothic...</td>\n      <td>Darkness| Despair| Death| Horror| Pagan Ancestry</td>\n      <td>2004-2014| 2014-2016| 2016-present</td>\n    </tr>\n  </tbody>\n</table>\n<p>37723 rows × 8 columns</p>\n</div>"
          },
          "metadata": {}
        }
      ]
    },
    {
      "metadata": {
        "trusted": true,
        "_uuid": "d68ebf8dd2555f6150cef426f7a5be2923e53128"
      },
      "cell_type": "code",
      "source": "len(data)",
      "execution_count": 55,
      "outputs": [
        {
          "output_type": "execute_result",
          "execution_count": 55,
          "data": {
            "text/plain": "37723"
          },
          "metadata": {}
        }
      ]
    },
    {
      "metadata": {
        "trusted": true,
        "_uuid": "2bbbad9e75b0c98a9904a4ddde7c9fde1ca72424"
      },
      "cell_type": "code",
      "source": "data.name.replace({r'[^\\x00-\\x7F]+':''}, regex=True, inplace=True)\ndata = data.drop_duplicates(subset=['name'])",
      "execution_count": 56,
      "outputs": []
    },
    {
      "metadata": {
        "trusted": true,
        "_uuid": "696a3989fbcc2f4e87b852a7f378407f03405ff7"
      },
      "cell_type": "code",
      "source": "len(data)",
      "execution_count": 57,
      "outputs": [
        {
          "output_type": "execute_result",
          "execution_count": 57,
          "data": {
            "text/plain": "32862"
          },
          "metadata": {}
        }
      ]
    },
    {
      "metadata": {
        "trusted": true,
        "_uuid": "e13e1c1cf2564fb713b8fc1e3e1f80ae84c65bf8"
      },
      "cell_type": "code",
      "source": "names = data['name'].tolist()\nrandom.shuffle(names)\nnames = ' '.join(names)\ntrain = names[:int(len(names)*0.8)]\nvalid = names[int(len(names)*0.8):]",
      "execution_count": 58,
      "outputs": []
    },
    {
      "metadata": {
        "trusted": true,
        "_uuid": "716caa5400ee844f6c62ee4748da4d2f1601cb58"
      },
      "cell_type": "code",
      "source": "class RNNModel(nn.Module):\n    def __init__(self, input_size, hidden_size, output_size, n_layers=1):\n        super(RNNModel, self).__init__()\n        self.input_size = input_size\n        self.hidden_size = hidden_size\n        self.output_size = output_size\n        self.n_layers = n_layers\n\n        self.encoder = nn.Embedding(input_size, hidden_size)\n        self.rnn = nn.GRU(hidden_size, hidden_size, n_layers)\n        self.decoder = nn.Linear(hidden_size, output_size)\n\n    def forward(self, input, hidden):\n        batch_size = input.size(0)\n        encoded = self.encoder(input)\n        output, hidden = self.rnn(encoded.view(1, batch_size, -1), hidden)\n        output = self.decoder(output.view(batch_size, -1))\n        return output, hidden\n\n    def init_hidden(self, batch_size):\n        return Variable(tt.zeros(self.n_layers, batch_size, self.hidden_size))",
      "execution_count": 47,
      "outputs": []
    },
    {
      "metadata": {
        "trusted": true,
        "_uuid": "b9637a279651e68f5ef7b91b2f101d0ba0fb24d1"
      },
      "cell_type": "code",
      "source": "def char_tensor(string, all_characters=string.printable):\n    \n    tensor = tt.zeros(len(string)).long()\n    \n    for c in range(len(string)):\n        \n        try:\n            tensor[c] = all_characters.index(string[c])\n            \n        except:\n            pass\n        \n    return tensor\n\ndef random_training_set(chunk_len, batch_size, text):\n    \n    inp = tt.LongTensor(batch_size, chunk_len)\n    target = tt.LongTensor(batch_size, chunk_len)\n    \n    for bs in range(batch_size):\n        \n        start_index = random.randint(0, len(text) - chunk_len)\n        chunk = text[start_index : start_index + chunk_len + 1]\n        \n        inp[bs] = char_tensor(chunk[:-1])\n        target[bs] = char_tensor(chunk[1:])\n        \n    inp, target = Variable(inp), Variable(target)\n    \n    return inp, target\n\ndef perplexity(x):\n    return 2**x",
      "execution_count": 48,
      "outputs": []
    },
    {
      "metadata": {
        "trusted": true,
        "_uuid": "b48778862cbabe4c25000768eba305c0e18f31ad"
      },
      "cell_type": "code",
      "source": "def _train_epoch(inp, target, model, optimizer, criterion, curr_epoch):\n\n    decoder.train()\n    hidden = decoder.init_hidden(batch_size)\n    decoder.zero_grad()\n    \n    train_loss, perplexities = 0, list()\n    \n    for c in range(chunk_len):\n        \n        optimizer.zero_grad()\n        \n        output, hidden = decoder(inp[:, c],\n                                 hidden)\n        loss = criterion(output.view(batch_size, -1),\n                         target[:, c])\n        perplexities.append(perplexity(loss.item()))\n        \n        current_loss = loss.data.cpu().detach().item()\n        loss_smoothing = c / (c + 1)\n        train_loss = loss_smoothing * train_loss + (1 - loss_smoothing) * current_loss\n    \n    loss.backward()\n    optimizer.step()\n    \n    return train_loss, np.mean(perplexities)\n\ndef _test_epoch(inp, target, model, criterion):\n    \n    model.eval()\n    \n    epoch_loss, loss, perplexities = 0, 0, list()\n    hidden = decoder.init_hidden(batch_size)\n    \n    with tt.no_grad():\n        for c in range(chunk_len):\n            output, hidden = decoder(inp[:, c],\n                                     hidden)\n            loss = criterion(output.view(batch_size, -1),\n                             target[:, c])\n            perplexities.append(perplexity(loss.item()))\n            epoch_loss += loss.data.item()\n    \n    return epoch_loss / chunk_len, np.mean(perplexities)\n\n\ndef nn_train(model, train, valid, criterion, optimizer, n_epochs=100, scheduler=None, early_stopping=0):\n    \n    print('N-Epoch\\tValid Loss\\t Train Loss\\tV.Perplexity\\tT.Perplexity')\n    \n    prev_loss, es_epochs = 100500, 0\n    \n    train_losses, valid_losses = list(), list()\n    \n    for epoch in range(n_epochs):\n        train_loss, train_per = _train_epoch(*random_training_set(chunk_len, \n                                                                      batch_size, \n                                                                      train),\n                                             model,\n                                             optimizer,\n                                             criterion,\n                                             epoch)\n        \n        valid_loss, valid_per = _test_epoch(*random_training_set(chunk_len, \n                                                                     batch_size, \n                                                                     valid),\n                                            model,\n                                            criterion)\n        \n        train_losses.append(train_loss)\n        valid_losses.append(valid_loss)\n            \n        if epoch % 100 == 0 or epoch == n_epochs-1:\n            print('%s \\t %.6f \\t %.6f \\t %.6f \\t %.6f' % (str(epoch),\n                                                          valid_loss,\n                                                          train_loss,\n                                                          valid_per,\n                                                          train_per))\n        if early_stopping > 0:\n            if valid_loss > prev_loss:\n                es_epochs += 1\n            else:\n                es_epochs = 0\n            if es_epochs >= early_stopping:\n                print('Training early stopping!')\n                break\n            prev_loss = min(prev_loss, valid_loss)",
      "execution_count": 49,
      "outputs": []
    },
    {
      "metadata": {
        "trusted": true,
        "_uuid": "ce2e5a65ce891ea6a57cbfa41b1b90e7e17144e7"
      },
      "cell_type": "code",
      "source": "hidden_size, batch_size, chunk_len = 100, 32, 250\n\ndecoder = RNNModel(\n    len(string.printable),\n    hidden_size,\n    len(string.printable))\n\noptimizer = tt.optim.Adam(decoder.parameters(), lr=0.01)\ncriterion = nn.CrossEntropyLoss()",
      "execution_count": 59,
      "outputs": []
    },
    {
      "metadata": {
        "trusted": true,
        "_uuid": "7cde5de181ad40437d4cbae25fa73f50957e08d0"
      },
      "cell_type": "code",
      "source": "nn_train(decoder, train, valid, criterion, optimizer, n_epochs=1000, early_stopping=500)\ntt.save(decoder, 'result.pt')",
      "execution_count": 60,
      "outputs": [
        {
          "output_type": "stream",
          "text": "N-Epoch\tValid Loss\t Train Loss\tV.Perplexity\tT.Perplexity\n0 \t 4.400522 \t 4.613569 \t 21.136107 \t 24.485654\n100 \t 2.751154 \t 2.743814 \t 6.835651 \t 6.783820\n200 \t 2.649527 \t 2.660450 \t 6.386678 \t 6.430016\n300 \t 2.643812 \t 2.658888 \t 6.347995 \t 6.420855\n400 \t 2.632326 \t 2.633144 \t 6.335445 \t 6.308012\n500 \t 2.622648 \t 2.631407 \t 6.270281 \t 6.317585\n600 \t 2.589977 \t 2.616214 \t 6.116070 \t 6.241401\n700 \t 2.638613 \t 2.593129 \t 6.334564 \t 6.148325\n800 \t 2.664960 \t 2.610439 \t 6.490794 \t 6.220190\n900 \t 2.580773 \t 2.585797 \t 6.090593 \t 6.116938\n999 \t 2.632132 \t 2.541971 \t 6.335582 \t 5.924576\n",
          "name": "stdout"
        },
        {
          "output_type": "stream",
          "text": "/opt/conda/lib/python3.6/site-packages/torch/serialization.py:251: UserWarning: Couldn't retrieve source code for container of type RNNModel. It won't be checked for correctness upon loading.\n  \"type \" + obj.__name__ + \". It won't be checked \"\n",
          "name": "stderr"
        }
      ]
    },
    {
      "metadata": {
        "trusted": true,
        "_uuid": "e7b41f41ef0cddcc5e1ee679c5d38c7c3185ddd1"
      },
      "cell_type": "code",
      "source": "def generate(decoder, prime_str='\\n', predict_len=15, temperature=0.8):\n    hidden = decoder.init_hidden(1)\n    prime_input = char_tensor(prime_str).unsqueeze(0)\n    predicted = ''\n\n    for p in range(len(prime_str) - 1):\n        _, hidden = decoder(prime_input[:,p], hidden)\n        \n    inp = prime_input[:,-1]\n    \n    for p in range(predict_len):\n        output, hidden = decoder(inp, hidden)\n        output_dist = output.data.view(-1).div(temperature).exp()\n        top_i = tt.multinomial(output_dist, 1)[0]\n        predicted_char = string.printable[top_i]\n        \n        if predicted and predicted_char == '\\n':\n            break\n        else:\n            predicted += predicted_char\n            inp = char_tensor(predicted_char).unsqueeze(0)\n\n    return predicted",
      "execution_count": 61,
      "outputs": []
    },
    {
      "metadata": {
        "trusted": true,
        "_uuid": "5fae95b499cd288525c12bd49585780ffe2b07f0"
      },
      "cell_type": "code",
      "source": "for x in range(50):\n    print(generate(decoder))",
      "execution_count": null,
      "outputs": [
        {
          "output_type": "stream",
          "text": "Death Mysina Pr\n Kebreast Marpt\n Morpe Bre bout\nysistion The Mo\nfethob Gesssd A\nEgt Thm Keud Bu\nst Deavesaris K\ngPlition Potrut\n Aenrve West Ke\nj Blogbem Ged B\n Mitaly Conctuh\n Mth Nuiate  of\ns Besss Decto P\n XPtution Sufff\nIsm Diade CSutu\n6#umes of Septh\n The Gsteast Mi\nser Vition Aolt\natopt Mogod Spt\ngithe Dedartah \n Putre Golt Pur\nin Mor bark Sw \npotum th Wizaw \n Markit Welales\n Punede Gamsss \nRist Meratruss \nr Cecce Masstr \n",
          "name": "stdout"
        }
      ]
    }
  ],
  "metadata": {
    "kernelspec": {
      "display_name": "Python 3",
      "language": "python",
      "name": "python3"
    },
    "language_info": {
      "name": "python",
      "version": "3.6.6",
      "mimetype": "text/x-python",
      "codemirror_mode": {
        "name": "ipython",
        "version": 3
      },
      "pygments_lexer": "ipython3",
      "nbconvert_exporter": "python",
      "file_extension": ".py"
    }
  },
  "nbformat": 4,
  "nbformat_minor": 1
}