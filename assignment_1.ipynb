{
 "cells": [
  {
   "cell_type": "code",
   "execution_count": 2,
   "metadata": {
    "collapsed": true
   },
   "outputs": [],
   "source": [
    "from math import log\n",
    "from bitarray import bitarray \n",
    "from random import randint, choice\n",
    "from collections import defaultdict\n",
    "import string\n",
    "\n",
    "%load_ext pycodestyle_magic"
   ]
  },
  {
   "cell_type": "code",
   "execution_count": 4,
   "metadata": {
    "collapsed": true
   },
   "outputs": [],
   "source": [
    "%%pycodestyle\n",
    "\n",
    "\n",
    "class CustomBloom(object):\n",
    "\n",
    "    def __init__(self, fpr, s):\n",
    "        self.hash_size = int(-(s * log(fpr)) / (log(2)**2))\n",
    "        self.hash_count = int((self.hash_size/s) * log(2))\n",
    "        self.hash = bitarray(self.hash_size)\n",
    "        self.hash.setall(False)\n",
    "        self.p = randint(s, s + 1000000)\n",
    "        self.x = randint(1, self.p - 1)\n",
    "\n",
    "    def string_hash(self, string):\n",
    "        h = 0\n",
    "        for j in range(len(string)-1, -1, -1):\n",
    "            h = (h * self.x + ord(string[j]) + self.p) % self.p\n",
    "        return h\n",
    "\n",
    "    def multi_hash(self, string):\n",
    "        for x in range(self.hash_count):\n",
    "            h = self.string_hash(string)\n",
    "            yield h\n",
    "\n",
    "    def insert(self, item):\n",
    "        for key in self.multi_hash(item):\n",
    "            self.hash[key] = True\n",
    "\n",
    "    def lookup(self, item):\n",
    "        for key in self.multi_hash(item):\n",
    "            if self.hash[key] is False:\n",
    "                return False\n",
    "        return True\n"
   ]
  },
  {
   "cell_type": "code",
   "execution_count": 8,
   "metadata": {},
   "outputs": [],
   "source": [
    "%%pycodestyle\n",
    "\n",
    "\n",
    "def gen_lines(length, number):\n",
    "    output = []\n",
    "    for x in range(number):\n",
    "        output.append(''.join([choice(characters) for x in range(length)]))\n",
    "    return output\n",
    "\n",
    "\n",
    "def test_bloomfilter(n_run, param, char_num, lines_num, lines, lines_test):\n",
    "    result = defaultdict()\n",
    "    fpr, s = param\n",
    "    for run in range(n_run):\n",
    "        bloom = CustomBloom(fpr, s)\n",
    "        false = 0\n",
    "        for line in lines:\n",
    "            bloom.insert(line)\n",
    "        for line in lines_test:\n",
    "            if bloom.lookup(line) is True and line not in lines:\n",
    "                false += 1\n",
    "        score = 1 - (len(lines_test) - false) / len(lines_test)\n",
    "        result[run + 1] = score\n",
    "    return result\n"
   ]
  },
  {
   "cell_type": "code",
   "execution_count": 9,
   "metadata": {
    "collapsed": true
   },
   "outputs": [],
   "source": [
    "characters = string.ascii_letters + string.digits"
   ]
  },
  {
   "cell_type": "code",
   "execution_count": 10,
   "metadata": {
    "collapsed": true
   },
   "outputs": [],
   "source": [
    "lines = gen_lines(30, 10**4)\n",
    "lines_test = gen_lines(30, 10**4)"
   ]
  },
  {
   "cell_type": "code",
   "execution_count": 11,
   "metadata": {},
   "outputs": [
    {
     "name": "stdout",
     "output_type": "stream",
     "text": [
      "CPU times: user 5.42 s, sys: 24.1 ms, total: 5.44 s\n",
      "Wall time: 5.46 s\n"
     ]
    }
   ],
   "source": [
    "%%time\n",
    "\n",
    "result = test_bloomfilter(5, [0.05, 10**6], 20, 10**4 , lines, lines_test)"
   ]
  },
  {
   "cell_type": "code",
   "execution_count": 14,
   "metadata": {},
   "outputs": [
    {
     "name": "stdout",
     "output_type": "stream",
     "text": [
      "For 10**4(10000) elements FPR results of our Bloom Filter:\n",
      "\n",
      "For run n.1 FPR score is:\t0.009000000000000008\n",
      "For run n.2 FPR score is:\t0.0048000000000000265\n",
      "For run n.3 FPR score is:\t0.006099999999999994\n",
      "For run n.4 FPR score is:\t0.009099999999999997\n",
      "For run n.5 FPR score is:\t0.005800000000000027\n"
     ]
    }
   ],
   "source": [
    "print('For 10**4(10000) elements FPR results of our Bloom Filter:\\n')\n",
    "for el in result:\n",
    "    print('For run n.{} FPR score is:\\t{}'.format(el, result[el]))"
   ]
  }
 ],
 "metadata": {
  "kernelspec": {
   "display_name": "Python 3",
   "language": "python",
   "name": "python3"
  },
  "language_info": {
   "codemirror_mode": {
    "name": "ipython",
    "version": 3
   },
   "file_extension": ".py",
   "mimetype": "text/x-python",
   "name": "python",
   "nbconvert_exporter": "python",
   "pygments_lexer": "ipython3",
   "version": "3.5.2"
  }
 },
 "nbformat": 4,
 "nbformat_minor": 2
}
