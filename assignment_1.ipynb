{
 "cells": [
  {
   "cell_type": "code",
   "execution_count": 1,
   "metadata": {
    "collapsed": true
   },
   "outputs": [],
   "source": [
    "from math import log\n",
    "from bitarray import bitarray \n",
    "from random import randint, choice\n",
    "from collections import defaultdict\n",
    "import string\n",
    "\n",
    "%load_ext pycodestyle_magic"
   ]
  },
  {
   "cell_type": "code",
   "execution_count": 4,
   "metadata": {},
   "outputs": [],
   "source": [
    "%%pycodestyle\n",
    "\n",
    "\n",
    "class CustomBloom(object):\n",
    "\n",
    "    def __init__(self, fpr, s):\n",
    "        self.hash_size = int(-(s * log(fpr)) / (log(2)**2))\n",
    "        self.hash_count = int((self.hash_size/s) * log(2))\n",
    "        self.hash = bitarray(self.hash_size)\n",
    "        self.hash.setall(False)\n",
    "        self.p = randint(s, s + 1000000)\n",
    "        self.x = randint(1, self.p - 1)\n",
    "\n",
    "    def string_hash(self, string):\n",
    "        h = 0\n",
    "        for j in range(len(string)-1, -1, -1):\n",
    "            h = (h * self.x + ord(string[j]) + self.p) % self.p\n",
    "        return h\n",
    "\n",
    "    def multi_hash(self, string):\n",
    "        for x in range(self.hash_count):\n",
    "            h = self.string_hash(string)\n",
    "            yield h\n",
    "\n",
    "    def insert(self, item):\n",
    "        for key in self.multi_hash(item):\n",
    "            self.hash[key] = True\n",
    "\n",
    "    def lookup(self, item):\n",
    "        for key in self.multi_hash(item):\n",
    "            if self.hash[key] is False:\n",
    "                return False\n",
    "        return True\n"
   ]
  }
 ],
 "metadata": {
  "kernelspec": {
   "display_name": "Python 3",
   "language": "python",
   "name": "python3"
  },
  "language_info": {
   "codemirror_mode": {
    "name": "ipython",
    "version": 3
   },
   "file_extension": ".py",
   "mimetype": "text/x-python",
   "name": "python",
   "nbconvert_exporter": "python",
   "pygments_lexer": "ipython3",
   "version": "3.5.2"
  }
 },
 "nbformat": 4,
 "nbformat_minor": 2
}
