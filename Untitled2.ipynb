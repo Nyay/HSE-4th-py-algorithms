{
 "cells": [
  {
   "cell_type": "code",
   "execution_count": 152,
   "metadata": {},
   "outputs": [
    {
     "name": "stdout",
     "output_type": "stream",
     "text": [
      "The pycodestyle_magic extension is already loaded. To reload it, use:\n",
      "  %reload_ext pycodestyle_magic\n"
     ]
    }
   ],
   "source": [
    "from math import log\n",
    "from bitarray import bitarray \n",
    "from random import randint, choice\n",
    "from collections import defaultdict\n",
    "import string\n",
    "\n",
    "%load_ext pycodestyle_magic"
   ]
  },
  {
   "cell_type": "code",
   "execution_count": 165,
   "metadata": {},
   "outputs": [],
   "source": [
    "class CustomBloom(object):\n",
    "\n",
    "    def __init__(self, fpr, s):\n",
    "        self.hash_size = int(-(s * log(fpr)) / (log(2)**2))\n",
    "        self.hash_count = int((self.hash_size/s) * log(2))\n",
    "        self.hash = bitarray(self.hash_size)\n",
    "        self.hash.setall(False)\n",
    "        self.p = randint(s, s + 1000000)\n",
    "        self.x = randint(1, self.p - 1)\n",
    "\n",
    "    def string_hash(self, string):\n",
    "        h = 0\n",
    "        for j in range(len(string)-1, -1, -1):\n",
    "            h = (h * self.x + ord(string[j]) + self.p) % self.p\n",
    "        return h\n",
    "\n",
    "    def multi_hash(self, string):\n",
    "        for x in range(self.hash_count):\n",
    "            h = self.string_hash(string)\n",
    "            yield h\n",
    "\n",
    "    def insert(self, item):\n",
    "        for key in self.multi_hash(item):\n",
    "            self.hash[key] = True\n",
    "\n",
    "    def lookup(self, item):\n",
    "        for key in self.multi_hash(item):\n",
    "            if self.hash[key] is False:\n",
    "                return False\n",
    "        return True\n"
   ]
  },
  {
   "cell_type": "code",
   "execution_count": 170,
   "metadata": {},
   "outputs": [],
   "source": [
    "def gen_lines(length, number):\n",
    "    output = []\n",
    "    for x in range(number):\n",
    "        output.append(''.join([choice(characters) for x in range(length)]))\n",
    "    return output\n",
    "\n",
    "def test_bloomfilter(n_run, param, char_num, lines_num, lines, lines_test):\n",
    "    result = defaultdict()\n",
    "    #lines = gen_lines(char_num, lines_num)\n",
    "    fpr, s = param\n",
    "    for run in range(n_run):\n",
    "        bloom = CustomBloom(fpr, s)\n",
    "        false = 0\n",
    "        for line in lines:\n",
    "            bloom.insert(line)\n",
    "        for line in lines_test:\n",
    "            if bloom.lookup(line) is True and line not in lines:\n",
    "                false += 1\n",
    "        score = 1 - (lines_num / (lines_num - false))\n",
    "        result[run + 1] = score  \n",
    "    return result"
   ]
  },
  {
   "cell_type": "code",
   "execution_count": 162,
   "metadata": {},
   "outputs": [],
   "source": [
    "characters = string.ascii_letters + string.digits"
   ]
  },
  {
   "cell_type": "code",
   "execution_count": 136,
   "metadata": {
    "collapsed": true
   },
   "outputs": [],
   "source": [
    "lines = gen_lines(30, 10**6)\n",
    "lines_test = gen_lines(30, 10**6)"
   ]
  },
  {
   "cell_type": "code",
   "execution_count": null,
   "metadata": {},
   "outputs": [],
   "source": [
    "%%time\n",
    "\n",
    "result = test_bloomfilter(1, [0.05, 10**6], 20, 10**6 , lines, lines_test)"
   ]
  },
  {
   "cell_type": "code",
   "execution_count": null,
   "metadata": {},
   "outputs": [],
   "source": [
    "result"
   ]
  },
  {
   "cell_type": "code",
   "execution_count": null,
   "metadata": {
    "collapsed": true
   },
   "outputs": [],
   "source": []
  }
 ],
 "metadata": {
  "kernelspec": {
   "display_name": "Python 3",
   "language": "python",
   "name": "python3"
  },
  "language_info": {
   "codemirror_mode": {
    "name": "ipython",
    "version": 3
   },
   "file_extension": ".py",
   "mimetype": "text/x-python",
   "name": "python",
   "nbconvert_exporter": "python",
   "pygments_lexer": "ipython3",
   "version": "3.5.2"
  }
 },
 "nbformat": 4,
 "nbformat_minor": 2
}
